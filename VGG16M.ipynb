{
  "nbformat": 4,
  "nbformat_minor": 0,
  "metadata": {
    "colab": {
      "provenance": [],
      "machine_shape": "hm",
      "gpuType": "L4"
    },
    "kernelspec": {
      "name": "python3",
      "display_name": "Python 3"
    },
    "language_info": {
      "name": "python"
    },
    "accelerator": "GPU"
  },
  "cells": [
    {
      "cell_type": "markdown",
      "source": [
        "# Importing Relevant Libraries and Connecting to Google Drive\n",
        "]"
      ],
      "metadata": {
        "id": "TezzpMa_wqFD"
      }
    },
    {
      "cell_type": "code",
      "execution_count": null,
      "metadata": {
        "id": "iKhOUyRPka-T"
      },
      "outputs": [],
      "source": [
        "import pandas as pd\n",
        "import numpy as np\n",
        "import matplotlib.pyplot as plt\n",
        "from matplotlib.image import imread\n",
        "import seaborn as sns\n",
        "import cv2\n",
        "import os\n",
        "from sklearn.model_selection import train_test_split\n",
        "from PIL import Image\n",
        "import random\n",
        "from sklearn.preprocessing import LabelEncoder\n",
        "from keras.utils import to_categorical\n",
        "from sklearn.preprocessing import LabelBinarizer\n",
        "from keras.callbacks import ReduceLROnPlateau\n",
        "import pickle\n",
        "from keras import backend as K\n",
        "\n",
        "import tensorflow as tf\n",
        "import keras\n",
        "from keras.models import *\n",
        "from keras.layers import *\n",
        "from keras.preprocessing.image import ImageDataGenerator, img_to_array\n",
        "from keras.optimizers.legacy import Adam\n",
        "from sklearn.metrics import accuracy_score, precision_score, recall_score, f1_score, confusion_matrix, classification_report"
      ]
    },
    {
      "cell_type": "code",
      "source": [
        "EPOCHS = 25\n",
        "INIT_LR = 1e-3\n",
        "BS = 32\n",
        "default_image_size = tuple((64, 64))\n",
        "image_size = 0\n",
        "width=64\n",
        "height=64\n",
        "depth=3\n",
        "image_size = 0"
      ],
      "metadata": {
        "id": "6IAYdK3gmXCD"
      },
      "execution_count": null,
      "outputs": []
    },
    {
      "cell_type": "code",
      "source": [
        "from google.colab import drive\n",
        "drive.mount('/content/drive')"
      ],
      "metadata": {
        "colab": {
          "base_uri": "https://localhost:8080/"
        },
        "id": "jNxHydQ2maE9",
        "outputId": "dd53ceab-0fb7-46e7-a604-1388e6f4f77b"
      },
      "execution_count": null,
      "outputs": [
        {
          "output_type": "stream",
          "name": "stdout",
          "text": [
            "Mounted at /content/drive\n"
          ]
        }
      ]
    },
    {
      "cell_type": "code",
      "source": [
        "path = \"/content/drive/MyDrive/plantdetection/PlantVillage\"\n",
        "print (path)"
      ],
      "metadata": {
        "colab": {
          "base_uri": "https://localhost:8080/"
        },
        "id": "xi8gE5zdmcIH",
        "outputId": "40da62f5-ce6a-4a0c-bf64-4e7361564d05"
      },
      "execution_count": null,
      "outputs": [
        {
          "output_type": "stream",
          "name": "stdout",
          "text": [
            "/content/drive/MyDrive/plantdetection/PlantVillage\n"
          ]
        }
      ]
    },
    {
      "cell_type": "markdown",
      "source": [
        "# Converting Images into arrays and resizing them"
      ],
      "metadata": {
        "id": "yU04M1SKw4VD"
      }
    },
    {
      "cell_type": "code",
      "source": [
        "def image_to_array(directory):\n",
        "  img = cv2.imread(directory)\n",
        "  if img is not None:\n",
        "    img = cv2.resize(img, default_image_size)\n",
        "    return img_to_array(img)\n",
        "  else:\n",
        "    return np.array([])"
      ],
      "metadata": {
        "id": "S88QtQMYmfsE"
      },
      "execution_count": null,
      "outputs": []
    },
    {
      "cell_type": "code",
      "source": [
        "img_list = []\n",
        "img_label_list = []\n",
        "\n",
        "try:\n",
        "    list_of_dir = os.listdir(path)\n",
        "    for direct in list_of_dir:\n",
        "      image_file = os.listdir(path + \"/\" + direct)\n",
        "\n",
        "      for imgs in image_file:\n",
        "        img_path = (path + '/' + direct + '/' + imgs)\n",
        "        if img_path.endswith('jpg') == True or img_path.endswith('JPG') == True:\n",
        "          img_list.append(image_to_array(img_path))\n",
        "          img_label_list.append(direct)\n",
        "\n",
        "except Exception as e:\n",
        "    print('error' + e)"
      ],
      "metadata": {
        "id": "h7XfHvormgHJ"
      },
      "execution_count": null,
      "outputs": []
    },
    {
      "cell_type": "markdown",
      "source": [
        "# Converting the Labels to Bianry"
      ],
      "metadata": {
        "id": "pF6WoulCw87-"
      }
    },
    {
      "cell_type": "code",
      "source": [
        "lb = LabelBinarizer()\n",
        "img_label_list_binary = lb.fit_transform(img_label_list)\n",
        "pickle.dump(lb,open('label_transform.pkl', 'wb'))\n",
        "n_classes = len(lb.classes_)\n",
        "print(lb.classes_)"
      ],
      "metadata": {
        "colab": {
          "base_uri": "https://localhost:8080/"
        },
        "id": "f1PaB4tTmiS2",
        "outputId": "c749a3d6-610b-467a-cf81-3fd77b0b16b7"
      },
      "execution_count": null,
      "outputs": [
        {
          "output_type": "stream",
          "name": "stdout",
          "text": [
            "['Pepper__bell___Bacterial_spot' 'Pepper__bell___healthy'\n",
            " 'Potato___Early_blight' 'Potato___Late_blight' 'Potato___healthy'\n",
            " 'Tomato_Bacterial_spot' 'Tomato_Early_blight' 'Tomato_Late_blight'\n",
            " 'Tomato_Leaf_Mold' 'Tomato_Septoria_leaf_spot'\n",
            " 'Tomato_Spider_mites_Two_spotted_spider_mite' 'Tomato__Target_Spot'\n",
            " 'Tomato__Tomato_YellowLeaf__Curl_Virus' 'Tomato__Tomato_mosaic_virus'\n",
            " 'Tomato_healthy']\n"
          ]
        }
      ]
    },
    {
      "cell_type": "markdown",
      "source": [
        "# Normalising and splitting the dataset"
      ],
      "metadata": {
        "id": "7lRJU50sw_bq"
      }
    },
    {
      "cell_type": "code",
      "source": [
        "img_list_array = np.array(img_list, dtype=np.float16) / 255.0"
      ],
      "metadata": {
        "id": "SuK9zmBgm1FS"
      },
      "execution_count": null,
      "outputs": []
    },
    {
      "cell_type": "code",
      "source": [
        "X_train, X_test, y_train, y_test = train_test_split(img_list_array, img_label_list_binary, test_size=0.20, random_state=42)"
      ],
      "metadata": {
        "id": "Ki9Ni4gemtWx"
      },
      "execution_count": null,
      "outputs": []
    },
    {
      "cell_type": "markdown",
      "source": [
        "# Data augmentation"
      ],
      "metadata": {
        "id": "pqo6CN82xBsy"
      }
    },
    {
      "cell_type": "code",
      "source": [
        "aug = ImageDataGenerator(\n",
        "    rotation_range=25, width_shift_range=0.1,\n",
        "    height_shift_range=0.1, shear_range=0.2,\n",
        "    zoom_range=0.2,horizontal_flip=True,\n",
        "    fill_mode=\"nearest\")"
      ],
      "metadata": {
        "id": "PqPE9Qrim67E"
      },
      "execution_count": null,
      "outputs": []
    },
    {
      "cell_type": "markdown",
      "source": [
        "Implentation of the VGG16 model"
      ],
      "metadata": {
        "id": "C2PAiPlGxQsQ"
      }
    },
    {
      "cell_type": "code",
      "source": [
        "inputShape = (height, width, depth)\n",
        "model = Sequential()\n",
        "\n",
        "model.add(Conv2D(32, kernel_size=(3, 3),\n",
        "                 activation='relu',\n",
        "                 input_shape=inputShape))\n",
        "model.add(Conv2D(filters=64,kernel_size=(3,3),padding=\"same\", activation=\"relu\"))\n",
        "model.add(MaxPool2D(pool_size=(2,2),strides=(2,2)))\n",
        "model.add(Conv2D(filters=128, kernel_size=(3,3), padding=\"same\", activation=\"relu\"))\n",
        "model.add(Conv2D(filters=128, kernel_size=(3,3), padding=\"same\", activation=\"relu\"))\n",
        "model.add(MaxPool2D(pool_size=(2,2),strides=(2,2)))\n",
        "model.add(Conv2D(filters=256, kernel_size=(3,3), padding=\"same\", activation=\"relu\"))\n",
        "model.add(Conv2D(filters=256, kernel_size=(3,3), padding=\"same\", activation=\"relu\"))\n",
        "model.add(Conv2D(filters=256, kernel_size=(3,3), padding=\"same\", activation=\"relu\"))\n",
        "model.add(MaxPool2D(pool_size=(2,2),strides=(2,2)))\n",
        "model.add(Conv2D(filters=512, kernel_size=(3,3), padding=\"same\", activation=\"relu\"))\n",
        "model.add(Conv2D(filters=512, kernel_size=(3,3), padding=\"same\", activation=\"relu\"))\n",
        "model.add(Conv2D(filters=512, kernel_size=(3,3), padding=\"same\", activation=\"relu\"))\n",
        "model.add(MaxPool2D(pool_size=(2,2),strides=(2,2)))\n",
        "model.add(Conv2D(filters=512, kernel_size=(3,3), padding=\"same\", activation=\"relu\"))\n",
        "model.add(Conv2D(filters=512, kernel_size=(3,3), padding=\"same\", activation=\"relu\"))\n",
        "model.add(Conv2D(filters=512, kernel_size=(3,3), padding=\"same\", activation=\"relu\"))\n",
        "model.add(MaxPool2D(pool_size=(2,2),strides=(2,2)))\n",
        "\n",
        "model.add(Flatten())\n",
        "model.add(Dense(units=4096,activation=\"relu\"))\n",
        "model.add(Dense(units=4096,activation=\"relu\"))\n",
        "model.add(Dense(units=15, activation=\"softmax\"))\n"
      ],
      "metadata": {
        "id": "dmUQJ8vmm9z3"
      },
      "execution_count": null,
      "outputs": []
    },
    {
      "cell_type": "markdown",
      "source": [
        "# Compiling and fitting the model"
      ],
      "metadata": {
        "id": "kRFiJA8kxW8U"
      }
    },
    {
      "cell_type": "code",
      "source": [
        "\n",
        "opt = Adam(lr=INIT_LR, decay=INIT_LR / EPOCHS)\n",
        "# distribution\n",
        "import keras\n",
        "\n",
        "\n",
        "model.compile(loss=\"binary_crossentropy\", optimizer=Adam(0.0001),metrics=[\"accuracy\"])\n"
      ],
      "metadata": {
        "colab": {
          "base_uri": "https://localhost:8080/"
        },
        "id": "heQTIPbenERY",
        "outputId": "a0b0886a-ce16-4f93-b1d0-190ddf3f8b0f"
      },
      "execution_count": null,
      "outputs": [
        {
          "output_type": "stream",
          "name": "stderr",
          "text": [
            "/usr/local/lib/python3.10/dist-packages/keras/src/optimizers/legacy/adam.py:118: UserWarning: The `lr` argument is deprecated, use `learning_rate` instead.\n",
            "  super().__init__(name, **kwargs)\n"
          ]
        }
      ]
    },
    {
      "cell_type": "code",
      "source": [
        "history = model.fit_generator(\n",
        "    aug.flow(X_train, y_train, batch_size=32),\n",
        "    validation_data=(X_test, y_test),\n",
        "    steps_per_epoch=len(X_train) // 32,\n",
        "    epochs=500, verbose=1\n",
        "    )"
      ],
      "metadata": {
        "colab": {
          "base_uri": "https://localhost:8080/"
        },
        "id": "mdQqUTRRnGog",
        "outputId": "802d1268-2072-4fe6-afef-f80780163c06"
      },
      "execution_count": null,
      "outputs": [
        {
          "output_type": "stream",
          "name": "stdout",
          "text": [
            "Epoch 1/500\n"
          ]
        },
        {
          "output_type": "stream",
          "name": "stderr",
          "text": [
            "<ipython-input-21-e9ac74da7dfd>:1: UserWarning: `Model.fit_generator` is deprecated and will be removed in a future version. Please use `Model.fit`, which supports generators.\n",
            "  history = model.fit_generator(\n"
          ]
        },
        {
          "output_type": "stream",
          "name": "stdout",
          "text": [
            "516/516 [==============================] - 21s 40ms/step - loss: 0.2732 - accuracy: 0.2040 - val_loss: 0.1672 - val_accuracy: 0.5533\n",
            "Epoch 2/500\n",
            "516/516 [==============================] - 20s 39ms/step - loss: 0.2002 - accuracy: 0.3804 - val_loss: 0.1408 - val_accuracy: 0.6061\n",
            "Epoch 3/500\n",
            "516/516 [==============================] - 20s 40ms/step - loss: 0.1734 - accuracy: 0.4766 - val_loss: 0.1224 - val_accuracy: 0.6547\n",
            "Epoch 4/500\n",
            "516/516 [==============================] - 21s 40ms/step - loss: 0.1580 - accuracy: 0.5237 - val_loss: 0.1139 - val_accuracy: 0.6702\n",
            "Epoch 5/500\n",
            "516/516 [==============================] - 20s 39ms/step - loss: 0.1467 - accuracy: 0.5650 - val_loss: 0.1054 - val_accuracy: 0.7109\n",
            "Epoch 6/500\n",
            "516/516 [==============================] - 20s 39ms/step - loss: 0.1375 - accuracy: 0.5956 - val_loss: 0.0986 - val_accuracy: 0.7145\n",
            "Epoch 7/500\n",
            "516/516 [==============================] - 20s 39ms/step - loss: 0.1310 - accuracy: 0.6172 - val_loss: 0.0968 - val_accuracy: 0.7354\n",
            "Epoch 8/500\n",
            "516/516 [==============================] - 20s 39ms/step - loss: 0.1268 - accuracy: 0.6349 - val_loss: 0.0943 - val_accuracy: 0.7392\n",
            "Epoch 9/500\n",
            "516/516 [==============================] - 20s 39ms/step - loss: 0.1218 - accuracy: 0.6512 - val_loss: 0.0908 - val_accuracy: 0.7571\n",
            "Epoch 10/500\n",
            "516/516 [==============================] - 20s 39ms/step - loss: 0.1181 - accuracy: 0.6604 - val_loss: 0.0967 - val_accuracy: 0.7317\n",
            "Epoch 11/500\n",
            "516/516 [==============================] - 21s 40ms/step - loss: 0.1160 - accuracy: 0.6661 - val_loss: 0.0953 - val_accuracy: 0.7320\n",
            "Epoch 12/500\n",
            "516/516 [==============================] - 20s 39ms/step - loss: 0.1120 - accuracy: 0.6828 - val_loss: 0.0829 - val_accuracy: 0.7804\n",
            "Epoch 13/500\n",
            "516/516 [==============================] - 20s 39ms/step - loss: 0.1097 - accuracy: 0.6849 - val_loss: 0.0896 - val_accuracy: 0.7579\n",
            "Epoch 14/500\n",
            "516/516 [==============================] - 20s 39ms/step - loss: 0.1070 - accuracy: 0.6934 - val_loss: 0.0875 - val_accuracy: 0.7678\n",
            "Epoch 15/500\n",
            "516/516 [==============================] - 20s 39ms/step - loss: 0.1044 - accuracy: 0.7064 - val_loss: 0.0833 - val_accuracy: 0.7826\n",
            "Epoch 16/500\n",
            "516/516 [==============================] - 20s 39ms/step - loss: 0.1035 - accuracy: 0.7109 - val_loss: 0.0718 - val_accuracy: 0.8232\n",
            "Epoch 17/500\n",
            "516/516 [==============================] - 20s 39ms/step - loss: 0.1015 - accuracy: 0.7167 - val_loss: 0.0787 - val_accuracy: 0.7947\n",
            "Epoch 18/500\n",
            "516/516 [==============================] - 20s 39ms/step - loss: 0.1004 - accuracy: 0.7197 - val_loss: 0.0774 - val_accuracy: 0.8015\n",
            "Epoch 19/500\n",
            "516/516 [==============================] - 20s 39ms/step - loss: 0.0988 - accuracy: 0.7246 - val_loss: 0.0856 - val_accuracy: 0.7712\n",
            "Epoch 20/500\n",
            "516/516 [==============================] - 20s 39ms/step - loss: 0.0977 - accuracy: 0.7274 - val_loss: 0.0757 - val_accuracy: 0.7978\n",
            "Epoch 21/500\n",
            "516/516 [==============================] - 20s 39ms/step - loss: 0.0968 - accuracy: 0.7302 - val_loss: 0.0734 - val_accuracy: 0.8177\n",
            "Epoch 22/500\n",
            "516/516 [==============================] - 20s 39ms/step - loss: 0.0947 - accuracy: 0.7390 - val_loss: 0.0809 - val_accuracy: 0.7956\n",
            "Epoch 23/500\n",
            "516/516 [==============================] - 20s 39ms/step - loss: 0.0930 - accuracy: 0.7437 - val_loss: 0.0735 - val_accuracy: 0.8082\n",
            "Epoch 24/500\n",
            "516/516 [==============================] - 20s 39ms/step - loss: 0.0924 - accuracy: 0.7475 - val_loss: 0.0776 - val_accuracy: 0.8102\n",
            "Epoch 25/500\n",
            "516/516 [==============================] - 20s 39ms/step - loss: 0.0909 - accuracy: 0.7499 - val_loss: 0.0680 - val_accuracy: 0.8242\n",
            "Epoch 26/500\n",
            "516/516 [==============================] - 20s 39ms/step - loss: 0.0908 - accuracy: 0.7507 - val_loss: 0.0730 - val_accuracy: 0.8102\n",
            "Epoch 27/500\n",
            "516/516 [==============================] - 20s 39ms/step - loss: 0.0896 - accuracy: 0.7557 - val_loss: 0.0790 - val_accuracy: 0.7932\n",
            "Epoch 28/500\n",
            "516/516 [==============================] - 20s 39ms/step - loss: 0.0878 - accuracy: 0.7614 - val_loss: 0.0645 - val_accuracy: 0.8416\n",
            "Epoch 29/500\n",
            "516/516 [==============================] - 20s 39ms/step - loss: 0.0871 - accuracy: 0.7663 - val_loss: 0.0676 - val_accuracy: 0.8276\n",
            "Epoch 30/500\n",
            "516/516 [==============================] - 20s 39ms/step - loss: 0.0864 - accuracy: 0.7639 - val_loss: 0.0711 - val_accuracy: 0.8245\n",
            "Epoch 31/500\n",
            "516/516 [==============================] - 20s 39ms/step - loss: 0.0855 - accuracy: 0.7683 - val_loss: 0.0671 - val_accuracy: 0.8305\n",
            "Epoch 32/500\n",
            "516/516 [==============================] - 20s 39ms/step - loss: 0.0856 - accuracy: 0.7726 - val_loss: 0.0724 - val_accuracy: 0.8148\n",
            "Epoch 33/500\n",
            "516/516 [==============================] - 20s 39ms/step - loss: 0.0842 - accuracy: 0.7685 - val_loss: 0.0769 - val_accuracy: 0.8039\n",
            "Epoch 34/500\n",
            "516/516 [==============================] - 20s 39ms/step - loss: 0.0842 - accuracy: 0.7708 - val_loss: 0.0772 - val_accuracy: 0.8104\n",
            "Epoch 35/500\n",
            "516/516 [==============================] - 20s 39ms/step - loss: 0.0824 - accuracy: 0.7768 - val_loss: 0.0674 - val_accuracy: 0.8315\n",
            "Epoch 36/500\n",
            "516/516 [==============================] - 20s 39ms/step - loss: 0.0814 - accuracy: 0.7827 - val_loss: 0.0617 - val_accuracy: 0.8467\n",
            "Epoch 37/500\n",
            "516/516 [==============================] - 20s 39ms/step - loss: 0.0802 - accuracy: 0.7864 - val_loss: 0.0643 - val_accuracy: 0.8421\n",
            "Epoch 38/500\n",
            "516/516 [==============================] - 20s 39ms/step - loss: 0.0799 - accuracy: 0.7854 - val_loss: 0.0674 - val_accuracy: 0.8312\n",
            "Epoch 39/500\n",
            "516/516 [==============================] - 20s 39ms/step - loss: 0.0797 - accuracy: 0.7860 - val_loss: 0.0595 - val_accuracy: 0.8402\n",
            "Epoch 40/500\n",
            "516/516 [==============================] - 20s 39ms/step - loss: 0.0800 - accuracy: 0.7881 - val_loss: 0.0821 - val_accuracy: 0.7956\n",
            "Epoch 41/500\n",
            "516/516 [==============================] - 20s 39ms/step - loss: 0.0788 - accuracy: 0.7917 - val_loss: 0.0785 - val_accuracy: 0.8080\n",
            "Epoch 42/500\n",
            "516/516 [==============================] - 20s 39ms/step - loss: 0.0772 - accuracy: 0.7975 - val_loss: 0.0698 - val_accuracy: 0.8312\n",
            "Epoch 43/500\n",
            "516/516 [==============================] - 20s 39ms/step - loss: 0.0775 - accuracy: 0.7928 - val_loss: 0.0618 - val_accuracy: 0.8470\n",
            "Epoch 44/500\n",
            "516/516 [==============================] - 20s 39ms/step - loss: 0.0778 - accuracy: 0.7925 - val_loss: 0.0631 - val_accuracy: 0.8383\n",
            "Epoch 45/500\n",
            "516/516 [==============================] - 20s 39ms/step - loss: 0.0764 - accuracy: 0.7985 - val_loss: 0.0684 - val_accuracy: 0.8329\n",
            "Epoch 46/500\n",
            "516/516 [==============================] - 20s 39ms/step - loss: 0.0767 - accuracy: 0.7979 - val_loss: 0.0719 - val_accuracy: 0.8271\n",
            "Epoch 47/500\n",
            "516/516 [==============================] - 20s 39ms/step - loss: 0.0747 - accuracy: 0.8052 - val_loss: 0.0653 - val_accuracy: 0.8390\n",
            "Epoch 48/500\n",
            "516/516 [==============================] - 20s 39ms/step - loss: 0.0745 - accuracy: 0.8052 - val_loss: 0.0650 - val_accuracy: 0.8354\n",
            "Epoch 49/500\n",
            "516/516 [==============================] - 20s 39ms/step - loss: 0.0739 - accuracy: 0.8084 - val_loss: 0.0581 - val_accuracy: 0.8622\n",
            "Epoch 50/500\n",
            "516/516 [==============================] - 20s 39ms/step - loss: 0.0747 - accuracy: 0.8031 - val_loss: 0.0749 - val_accuracy: 0.8194\n",
            "Epoch 51/500\n",
            "516/516 [==============================] - 20s 39ms/step - loss: 0.0738 - accuracy: 0.8099 - val_loss: 0.0648 - val_accuracy: 0.8395\n",
            "Epoch 52/500\n",
            "516/516 [==============================] - 20s 39ms/step - loss: 0.0742 - accuracy: 0.8070 - val_loss: 0.0682 - val_accuracy: 0.8324\n",
            "Epoch 53/500\n",
            "516/516 [==============================] - 20s 39ms/step - loss: 0.0723 - accuracy: 0.8134 - val_loss: 0.0649 - val_accuracy: 0.8487\n",
            "Epoch 54/500\n",
            "516/516 [==============================] - 20s 39ms/step - loss: 0.0718 - accuracy: 0.8140 - val_loss: 0.0550 - val_accuracy: 0.8685\n",
            "Epoch 55/500\n",
            "516/516 [==============================] - 20s 39ms/step - loss: 0.0727 - accuracy: 0.8091 - val_loss: 0.0631 - val_accuracy: 0.8550\n",
            "Epoch 56/500\n",
            "516/516 [==============================] - 20s 39ms/step - loss: 0.0720 - accuracy: 0.8143 - val_loss: 0.0680 - val_accuracy: 0.8438\n",
            "Epoch 57/500\n",
            "516/516 [==============================] - 20s 39ms/step - loss: 0.0718 - accuracy: 0.8150 - val_loss: 0.0600 - val_accuracy: 0.8615\n",
            "Epoch 58/500\n",
            "516/516 [==============================] - 20s 39ms/step - loss: 0.0723 - accuracy: 0.8132 - val_loss: 0.0608 - val_accuracy: 0.8569\n",
            "Epoch 59/500\n",
            "516/516 [==============================] - 20s 39ms/step - loss: 0.0705 - accuracy: 0.8194 - val_loss: 0.0791 - val_accuracy: 0.8082\n",
            "Epoch 60/500\n",
            "516/516 [==============================] - 20s 39ms/step - loss: 0.0698 - accuracy: 0.8182 - val_loss: 0.0583 - val_accuracy: 0.8571\n",
            "Epoch 61/500\n",
            "516/516 [==============================] - 20s 39ms/step - loss: 0.0693 - accuracy: 0.8212 - val_loss: 0.0667 - val_accuracy: 0.8426\n",
            "Epoch 62/500\n",
            "516/516 [==============================] - 20s 39ms/step - loss: 0.0689 - accuracy: 0.8206 - val_loss: 0.0607 - val_accuracy: 0.8603\n",
            "Epoch 63/500\n",
            "516/516 [==============================] - 20s 39ms/step - loss: 0.0690 - accuracy: 0.8197 - val_loss: 0.0670 - val_accuracy: 0.8361\n",
            "Epoch 64/500\n",
            "516/516 [==============================] - 20s 39ms/step - loss: 0.0678 - accuracy: 0.8273 - val_loss: 0.0766 - val_accuracy: 0.8283\n",
            "Epoch 65/500\n",
            "516/516 [==============================] - 20s 39ms/step - loss: 0.0683 - accuracy: 0.8232 - val_loss: 0.0652 - val_accuracy: 0.8501\n",
            "Epoch 66/500\n",
            "516/516 [==============================] - 20s 39ms/step - loss: 0.0679 - accuracy: 0.8249 - val_loss: 0.0617 - val_accuracy: 0.8610\n",
            "Epoch 67/500\n",
            "516/516 [==============================] - 20s 39ms/step - loss: 0.0678 - accuracy: 0.8292 - val_loss: 0.0584 - val_accuracy: 0.8620\n",
            "Epoch 68/500\n",
            "516/516 [==============================] - 20s 39ms/step - loss: 0.0675 - accuracy: 0.8288 - val_loss: 0.0592 - val_accuracy: 0.8608\n",
            "Epoch 69/500\n",
            "516/516 [==============================] - 20s 39ms/step - loss: 0.0663 - accuracy: 0.8309 - val_loss: 0.0518 - val_accuracy: 0.8789\n",
            "Epoch 70/500\n",
            "516/516 [==============================] - 20s 39ms/step - loss: 0.0664 - accuracy: 0.8303 - val_loss: 0.0675 - val_accuracy: 0.8450\n",
            "Epoch 71/500\n",
            "516/516 [==============================] - 20s 39ms/step - loss: 0.0651 - accuracy: 0.8343 - val_loss: 0.0572 - val_accuracy: 0.8729\n",
            "Epoch 72/500\n",
            "516/516 [==============================] - 20s 39ms/step - loss: 0.0662 - accuracy: 0.8321 - val_loss: 0.0695 - val_accuracy: 0.8400\n",
            "Epoch 73/500\n",
            "516/516 [==============================] - 20s 39ms/step - loss: 0.0659 - accuracy: 0.8343 - val_loss: 0.0637 - val_accuracy: 0.8596\n",
            "Epoch 74/500\n",
            "516/516 [==============================] - 20s 39ms/step - loss: 0.0661 - accuracy: 0.8318 - val_loss: 0.0783 - val_accuracy: 0.8177\n",
            "Epoch 75/500\n",
            "516/516 [==============================] - 20s 39ms/step - loss: 0.0652 - accuracy: 0.8350 - val_loss: 0.0597 - val_accuracy: 0.8615\n",
            "Epoch 76/500\n",
            "516/516 [==============================] - 20s 39ms/step - loss: 0.0649 - accuracy: 0.8356 - val_loss: 0.0667 - val_accuracy: 0.8472\n",
            "Epoch 77/500\n",
            "516/516 [==============================] - 20s 39ms/step - loss: 0.0653 - accuracy: 0.8355 - val_loss: 0.0681 - val_accuracy: 0.8496\n",
            "Epoch 78/500\n",
            "516/516 [==============================] - 20s 39ms/step - loss: 0.0646 - accuracy: 0.8374 - val_loss: 0.0581 - val_accuracy: 0.8651\n",
            "Epoch 79/500\n",
            "516/516 [==============================] - 20s 39ms/step - loss: 0.0641 - accuracy: 0.8382 - val_loss: 0.0524 - val_accuracy: 0.8775\n",
            "Epoch 80/500\n",
            "516/516 [==============================] - 20s 39ms/step - loss: 0.0640 - accuracy: 0.8374 - val_loss: 0.0580 - val_accuracy: 0.8690\n",
            "Epoch 81/500\n",
            "516/516 [==============================] - 20s 39ms/step - loss: 0.0635 - accuracy: 0.8372 - val_loss: 0.0617 - val_accuracy: 0.8576\n",
            "Epoch 82/500\n",
            "516/516 [==============================] - 20s 39ms/step - loss: 0.0636 - accuracy: 0.8416 - val_loss: 0.0611 - val_accuracy: 0.8659\n",
            "Epoch 83/500\n",
            "516/516 [==============================] - 20s 39ms/step - loss: 0.0625 - accuracy: 0.8419 - val_loss: 0.0512 - val_accuracy: 0.8814\n",
            "Epoch 84/500\n",
            "516/516 [==============================] - 20s 39ms/step - loss: 0.0640 - accuracy: 0.8385 - val_loss: 0.0571 - val_accuracy: 0.8753\n",
            "Epoch 85/500\n",
            "516/516 [==============================] - 20s 39ms/step - loss: 0.0622 - accuracy: 0.8432 - val_loss: 0.0701 - val_accuracy: 0.8450\n",
            "Epoch 86/500\n",
            "516/516 [==============================] - 20s 39ms/step - loss: 0.0613 - accuracy: 0.8471 - val_loss: 0.0647 - val_accuracy: 0.8521\n",
            "Epoch 87/500\n",
            "516/516 [==============================] - 20s 39ms/step - loss: 0.0620 - accuracy: 0.8472 - val_loss: 0.0708 - val_accuracy: 0.8378\n",
            "Epoch 88/500\n",
            "516/516 [==============================] - 20s 39ms/step - loss: 0.0617 - accuracy: 0.8456 - val_loss: 0.0634 - val_accuracy: 0.8525\n",
            "Epoch 89/500\n",
            "516/516 [==============================] - 20s 39ms/step - loss: 0.0616 - accuracy: 0.8474 - val_loss: 0.0649 - val_accuracy: 0.8581\n",
            "Epoch 90/500\n",
            "516/516 [==============================] - 20s 39ms/step - loss: 0.0608 - accuracy: 0.8446 - val_loss: 0.0528 - val_accuracy: 0.8816\n",
            "Epoch 91/500\n",
            "516/516 [==============================] - 20s 39ms/step - loss: 0.0607 - accuracy: 0.8471 - val_loss: 0.0719 - val_accuracy: 0.8462\n",
            "Epoch 92/500\n",
            "516/516 [==============================] - 20s 38ms/step - loss: 0.0599 - accuracy: 0.8504 - val_loss: 0.0461 - val_accuracy: 0.8952\n",
            "Epoch 93/500\n",
            "516/516 [==============================] - 20s 39ms/step - loss: 0.0611 - accuracy: 0.8470 - val_loss: 0.0642 - val_accuracy: 0.8525\n",
            "Epoch 94/500\n",
            "516/516 [==============================] - 20s 39ms/step - loss: 0.0595 - accuracy: 0.8543 - val_loss: 0.0951 - val_accuracy: 0.8022\n",
            "Epoch 95/500\n",
            "516/516 [==============================] - 20s 39ms/step - loss: 0.0596 - accuracy: 0.8514 - val_loss: 0.0616 - val_accuracy: 0.8668\n",
            "Epoch 96/500\n",
            "516/516 [==============================] - 20s 39ms/step - loss: 0.0587 - accuracy: 0.8564 - val_loss: 0.0789 - val_accuracy: 0.8269\n",
            "Epoch 97/500\n",
            "516/516 [==============================] - 20s 39ms/step - loss: 0.0595 - accuracy: 0.8517 - val_loss: 0.0608 - val_accuracy: 0.8613\n",
            "Epoch 98/500\n",
            "516/516 [==============================] - 20s 39ms/step - loss: 0.0587 - accuracy: 0.8527 - val_loss: 0.0724 - val_accuracy: 0.8446\n",
            "Epoch 99/500\n",
            "516/516 [==============================] - 20s 39ms/step - loss: 0.0596 - accuracy: 0.8491 - val_loss: 0.0585 - val_accuracy: 0.8729\n",
            "Epoch 100/500\n",
            "516/516 [==============================] - 20s 39ms/step - loss: 0.0579 - accuracy: 0.8554 - val_loss: 0.0594 - val_accuracy: 0.8673\n",
            "Epoch 101/500\n",
            "516/516 [==============================] - 20s 39ms/step - loss: 0.0583 - accuracy: 0.8548 - val_loss: 0.0607 - val_accuracy: 0.8719\n",
            "Epoch 102/500\n",
            "516/516 [==============================] - 20s 39ms/step - loss: 0.0574 - accuracy: 0.8581 - val_loss: 0.0509 - val_accuracy: 0.8867\n",
            "Epoch 103/500\n",
            "516/516 [==============================] - 20s 39ms/step - loss: 0.0577 - accuracy: 0.8568 - val_loss: 0.0495 - val_accuracy: 0.8932\n",
            "Epoch 104/500\n",
            "516/516 [==============================] - 20s 39ms/step - loss: 0.0581 - accuracy: 0.8529 - val_loss: 0.0651 - val_accuracy: 0.8625\n",
            "Epoch 105/500\n",
            "516/516 [==============================] - 20s 39ms/step - loss: 0.0573 - accuracy: 0.8591 - val_loss: 0.0605 - val_accuracy: 0.8722\n",
            "Epoch 106/500\n",
            "516/516 [==============================] - 20s 39ms/step - loss: 0.0564 - accuracy: 0.8594 - val_loss: 0.0589 - val_accuracy: 0.8738\n",
            "Epoch 107/500\n",
            "516/516 [==============================] - 20s 39ms/step - loss: 0.0572 - accuracy: 0.8568 - val_loss: 0.0691 - val_accuracy: 0.8518\n",
            "Epoch 108/500\n",
            "516/516 [==============================] - 20s 39ms/step - loss: 0.0561 - accuracy: 0.8592 - val_loss: 0.0685 - val_accuracy: 0.8523\n",
            "Epoch 109/500\n",
            "516/516 [==============================] - 20s 39ms/step - loss: 0.0558 - accuracy: 0.8649 - val_loss: 0.0806 - val_accuracy: 0.8332\n",
            "Epoch 110/500\n",
            "516/516 [==============================] - 20s 39ms/step - loss: 0.0567 - accuracy: 0.8607 - val_loss: 0.0603 - val_accuracy: 0.8676\n",
            "Epoch 111/500\n",
            "516/516 [==============================] - 20s 39ms/step - loss: 0.0565 - accuracy: 0.8573 - val_loss: 0.0514 - val_accuracy: 0.8864\n",
            "Epoch 112/500\n",
            "516/516 [==============================] - 20s 39ms/step - loss: 0.0553 - accuracy: 0.8664 - val_loss: 0.0740 - val_accuracy: 0.8470\n",
            "Epoch 113/500\n",
            "516/516 [==============================] - 20s 39ms/step - loss: 0.0557 - accuracy: 0.8616 - val_loss: 0.0702 - val_accuracy: 0.8496\n",
            "Epoch 114/500\n",
            "516/516 [==============================] - 20s 39ms/step - loss: 0.0556 - accuracy: 0.8657 - val_loss: 0.0516 - val_accuracy: 0.8850\n",
            "Epoch 115/500\n",
            "516/516 [==============================] - 20s 39ms/step - loss: 0.0547 - accuracy: 0.8668 - val_loss: 0.0626 - val_accuracy: 0.8656\n",
            "Epoch 116/500\n",
            "516/516 [==============================] - 20s 39ms/step - loss: 0.0546 - accuracy: 0.8689 - val_loss: 0.0613 - val_accuracy: 0.8705\n",
            "Epoch 117/500\n",
            "516/516 [==============================] - 20s 39ms/step - loss: 0.0554 - accuracy: 0.8645 - val_loss: 0.0563 - val_accuracy: 0.8816\n",
            "Epoch 118/500\n",
            "516/516 [==============================] - 20s 39ms/step - loss: 0.0546 - accuracy: 0.8659 - val_loss: 0.0453 - val_accuracy: 0.9005\n",
            "Epoch 119/500\n",
            "516/516 [==============================] - 20s 39ms/step - loss: 0.0544 - accuracy: 0.8682 - val_loss: 0.0531 - val_accuracy: 0.8857\n",
            "Epoch 120/500\n",
            "516/516 [==============================] - 20s 39ms/step - loss: 0.0541 - accuracy: 0.8671 - val_loss: 0.0602 - val_accuracy: 0.8755\n",
            "Epoch 121/500\n",
            "516/516 [==============================] - 20s 39ms/step - loss: 0.0523 - accuracy: 0.8721 - val_loss: 0.0723 - val_accuracy: 0.8506\n",
            "Epoch 122/500\n",
            "516/516 [==============================] - 20s 39ms/step - loss: 0.0536 - accuracy: 0.8692 - val_loss: 0.0638 - val_accuracy: 0.8676\n",
            "Epoch 123/500\n",
            "516/516 [==============================] - 20s 39ms/step - loss: 0.0536 - accuracy: 0.8694 - val_loss: 0.0572 - val_accuracy: 0.8775\n",
            "Epoch 124/500\n",
            "516/516 [==============================] - 20s 39ms/step - loss: 0.0534 - accuracy: 0.8691 - val_loss: 0.0533 - val_accuracy: 0.8845\n",
            "Epoch 125/500\n",
            "516/516 [==============================] - 20s 39ms/step - loss: 0.0533 - accuracy: 0.8679 - val_loss: 0.0691 - val_accuracy: 0.8552\n",
            "Epoch 126/500\n",
            "516/516 [==============================] - 20s 39ms/step - loss: 0.0535 - accuracy: 0.8681 - val_loss: 0.0833 - val_accuracy: 0.8332\n",
            "Epoch 127/500\n",
            "516/516 [==============================] - 20s 39ms/step - loss: 0.0535 - accuracy: 0.8682 - val_loss: 0.0663 - val_accuracy: 0.8617\n",
            "Epoch 128/500\n",
            "516/516 [==============================] - 20s 39ms/step - loss: 0.0533 - accuracy: 0.8691 - val_loss: 0.0810 - val_accuracy: 0.8358\n",
            "Epoch 129/500\n",
            "516/516 [==============================] - 20s 39ms/step - loss: 0.0528 - accuracy: 0.8709 - val_loss: 0.0716 - val_accuracy: 0.8567\n",
            "Epoch 130/500\n",
            "516/516 [==============================] - 20s 39ms/step - loss: 0.0533 - accuracy: 0.8683 - val_loss: 0.0472 - val_accuracy: 0.8969\n",
            "Epoch 131/500\n",
            "516/516 [==============================] - 20s 39ms/step - loss: 0.0524 - accuracy: 0.8712 - val_loss: 0.0560 - val_accuracy: 0.8835\n",
            "Epoch 132/500\n",
            "516/516 [==============================] - 20s 39ms/step - loss: 0.0515 - accuracy: 0.8733 - val_loss: 0.0700 - val_accuracy: 0.8584\n",
            "Epoch 133/500\n",
            "516/516 [==============================] - 20s 39ms/step - loss: 0.0524 - accuracy: 0.8745 - val_loss: 0.0761 - val_accuracy: 0.8387\n",
            "Epoch 134/500\n",
            "516/516 [==============================] - 20s 39ms/step - loss: 0.0520 - accuracy: 0.8752 - val_loss: 0.0597 - val_accuracy: 0.8768\n",
            "Epoch 135/500\n",
            "516/516 [==============================] - 20s 39ms/step - loss: 0.0519 - accuracy: 0.8736 - val_loss: 0.0636 - val_accuracy: 0.8731\n",
            "Epoch 136/500\n",
            "516/516 [==============================] - 20s 39ms/step - loss: 0.0513 - accuracy: 0.8766 - val_loss: 0.0598 - val_accuracy: 0.8775\n",
            "Epoch 137/500\n",
            "516/516 [==============================] - 20s 39ms/step - loss: 0.0505 - accuracy: 0.8775 - val_loss: 0.0641 - val_accuracy: 0.8678\n",
            "Epoch 138/500\n",
            "516/516 [==============================] - 20s 39ms/step - loss: 0.0508 - accuracy: 0.8789 - val_loss: 0.0580 - val_accuracy: 0.8797\n",
            "Epoch 139/500\n",
            "516/516 [==============================] - 20s 39ms/step - loss: 0.0517 - accuracy: 0.8731 - val_loss: 0.0581 - val_accuracy: 0.8826\n",
            "Epoch 140/500\n",
            "516/516 [==============================] - 20s 39ms/step - loss: 0.0506 - accuracy: 0.8781 - val_loss: 0.0753 - val_accuracy: 0.8475\n",
            "Epoch 141/500\n",
            "516/516 [==============================] - 20s 39ms/step - loss: 0.0512 - accuracy: 0.8778 - val_loss: 0.0593 - val_accuracy: 0.8734\n",
            "Epoch 142/500\n",
            "516/516 [==============================] - 20s 39ms/step - loss: 0.0506 - accuracy: 0.8772 - val_loss: 0.0610 - val_accuracy: 0.8741\n",
            "Epoch 143/500\n",
            "516/516 [==============================] - 20s 39ms/step - loss: 0.0499 - accuracy: 0.8815 - val_loss: 0.0830 - val_accuracy: 0.8484\n",
            "Epoch 144/500\n",
            "516/516 [==============================] - 20s 39ms/step - loss: 0.0501 - accuracy: 0.8791 - val_loss: 0.0780 - val_accuracy: 0.8453\n",
            "Epoch 145/500\n",
            "516/516 [==============================] - 20s 39ms/step - loss: 0.0510 - accuracy: 0.8784 - val_loss: 0.0581 - val_accuracy: 0.8838\n",
            "Epoch 146/500\n",
            "516/516 [==============================] - 20s 39ms/step - loss: 0.0504 - accuracy: 0.8792 - val_loss: 0.0743 - val_accuracy: 0.8530\n",
            "Epoch 147/500\n",
            "516/516 [==============================] - 20s 39ms/step - loss: 0.0501 - accuracy: 0.8791 - val_loss: 0.0592 - val_accuracy: 0.8765\n",
            "Epoch 148/500\n",
            "516/516 [==============================] - 20s 39ms/step - loss: 0.0491 - accuracy: 0.8815 - val_loss: 0.0660 - val_accuracy: 0.8644\n",
            "Epoch 149/500\n",
            "516/516 [==============================] - 20s 39ms/step - loss: 0.0499 - accuracy: 0.8784 - val_loss: 0.0681 - val_accuracy: 0.8634\n",
            "Epoch 150/500\n",
            "516/516 [==============================] - 20s 39ms/step - loss: 0.0501 - accuracy: 0.8793 - val_loss: 0.0770 - val_accuracy: 0.8470\n",
            "Epoch 151/500\n",
            "516/516 [==============================] - 20s 39ms/step - loss: 0.0495 - accuracy: 0.8803 - val_loss: 0.0786 - val_accuracy: 0.8489\n",
            "Epoch 152/500\n",
            "516/516 [==============================] - 20s 39ms/step - loss: 0.0490 - accuracy: 0.8821 - val_loss: 0.0658 - val_accuracy: 0.8688\n",
            "Epoch 153/500\n",
            "516/516 [==============================] - 20s 39ms/step - loss: 0.0488 - accuracy: 0.8846 - val_loss: 0.0488 - val_accuracy: 0.9002\n",
            "Epoch 154/500\n",
            "516/516 [==============================] - 20s 39ms/step - loss: 0.0486 - accuracy: 0.8844 - val_loss: 0.0635 - val_accuracy: 0.8755\n",
            "Epoch 155/500\n",
            "516/516 [==============================] - 20s 39ms/step - loss: 0.0489 - accuracy: 0.8837 - val_loss: 0.0692 - val_accuracy: 0.8663\n",
            "Epoch 156/500\n",
            "516/516 [==============================] - 20s 39ms/step - loss: 0.0486 - accuracy: 0.8836 - val_loss: 0.0671 - val_accuracy: 0.8620\n",
            "Epoch 157/500\n",
            "516/516 [==============================] - 20s 39ms/step - loss: 0.0477 - accuracy: 0.8875 - val_loss: 0.0622 - val_accuracy: 0.8794\n",
            "Epoch 158/500\n",
            "516/516 [==============================] - 20s 39ms/step - loss: 0.0480 - accuracy: 0.8845 - val_loss: 0.0556 - val_accuracy: 0.8811\n",
            "Epoch 159/500\n",
            "516/516 [==============================] - 20s 39ms/step - loss: 0.0475 - accuracy: 0.8863 - val_loss: 0.0656 - val_accuracy: 0.8615\n",
            "Epoch 160/500\n",
            "516/516 [==============================] - 20s 39ms/step - loss: 0.0482 - accuracy: 0.8843 - val_loss: 0.0647 - val_accuracy: 0.8765\n",
            "Epoch 161/500\n",
            "516/516 [==============================] - 20s 39ms/step - loss: 0.0479 - accuracy: 0.8843 - val_loss: 0.0887 - val_accuracy: 0.8392\n",
            "Epoch 162/500\n",
            "516/516 [==============================] - 20s 39ms/step - loss: 0.0479 - accuracy: 0.8835 - val_loss: 0.0702 - val_accuracy: 0.8637\n",
            "Epoch 163/500\n",
            "516/516 [==============================] - 20s 39ms/step - loss: 0.0486 - accuracy: 0.8853 - val_loss: 0.0730 - val_accuracy: 0.8637\n",
            "Epoch 164/500\n",
            "516/516 [==============================] - 20s 39ms/step - loss: 0.0474 - accuracy: 0.8858 - val_loss: 0.0663 - val_accuracy: 0.8700\n",
            "Epoch 165/500\n",
            "516/516 [==============================] - 20s 39ms/step - loss: 0.0465 - accuracy: 0.8929 - val_loss: 0.0866 - val_accuracy: 0.8477\n",
            "Epoch 166/500\n",
            "516/516 [==============================] - 20s 39ms/step - loss: 0.0470 - accuracy: 0.8858 - val_loss: 0.0738 - val_accuracy: 0.8596\n",
            "Epoch 167/500\n",
            "516/516 [==============================] - 20s 39ms/step - loss: 0.0473 - accuracy: 0.8872 - val_loss: 0.0886 - val_accuracy: 0.8419\n",
            "Epoch 168/500\n",
            "516/516 [==============================] - 20s 39ms/step - loss: 0.0481 - accuracy: 0.8843 - val_loss: 0.0578 - val_accuracy: 0.8840\n",
            "Epoch 169/500\n",
            "516/516 [==============================] - 20s 39ms/step - loss: 0.0470 - accuracy: 0.8854 - val_loss: 0.0712 - val_accuracy: 0.8559\n",
            "Epoch 170/500\n",
            "516/516 [==============================] - 20s 39ms/step - loss: 0.0464 - accuracy: 0.8905 - val_loss: 0.0728 - val_accuracy: 0.8656\n",
            "Epoch 171/500\n",
            "516/516 [==============================] - 20s 39ms/step - loss: 0.0459 - accuracy: 0.8904 - val_loss: 0.0555 - val_accuracy: 0.8884\n",
            "Epoch 172/500\n",
            "516/516 [==============================] - 20s 39ms/step - loss: 0.0470 - accuracy: 0.8861 - val_loss: 0.0789 - val_accuracy: 0.8533\n",
            "Epoch 173/500\n",
            "516/516 [==============================] - 20s 39ms/step - loss: 0.0466 - accuracy: 0.8901 - val_loss: 0.0658 - val_accuracy: 0.8734\n",
            "Epoch 174/500\n",
            "516/516 [==============================] - 20s 39ms/step - loss: 0.0464 - accuracy: 0.8894 - val_loss: 0.0491 - val_accuracy: 0.8973\n",
            "Epoch 175/500\n",
            "516/516 [==============================] - 20s 39ms/step - loss: 0.0477 - accuracy: 0.8852 - val_loss: 0.0775 - val_accuracy: 0.8533\n",
            "Epoch 176/500\n",
            "516/516 [==============================] - 20s 39ms/step - loss: 0.0457 - accuracy: 0.8928 - val_loss: 0.0598 - val_accuracy: 0.8797\n",
            "Epoch 177/500\n",
            "516/516 [==============================] - 20s 39ms/step - loss: 0.0460 - accuracy: 0.8923 - val_loss: 0.0560 - val_accuracy: 0.8850\n",
            "Epoch 178/500\n",
            "516/516 [==============================] - 20s 39ms/step - loss: 0.0458 - accuracy: 0.8915 - val_loss: 0.0689 - val_accuracy: 0.8654\n",
            "Epoch 179/500\n",
            "516/516 [==============================] - 20s 39ms/step - loss: 0.0455 - accuracy: 0.8929 - val_loss: 0.0645 - val_accuracy: 0.8702\n",
            "Epoch 180/500\n",
            "516/516 [==============================] - 20s 39ms/step - loss: 0.0457 - accuracy: 0.8934 - val_loss: 0.0719 - val_accuracy: 0.8615\n",
            "Epoch 181/500\n",
            "516/516 [==============================] - 20s 39ms/step - loss: 0.0451 - accuracy: 0.8920 - val_loss: 0.0773 - val_accuracy: 0.8576\n",
            "Epoch 182/500\n",
            "516/516 [==============================] - 20s 39ms/step - loss: 0.0461 - accuracy: 0.8921 - val_loss: 0.0543 - val_accuracy: 0.8889\n",
            "Epoch 183/500\n",
            "516/516 [==============================] - 20s 39ms/step - loss: 0.0458 - accuracy: 0.8912 - val_loss: 0.0724 - val_accuracy: 0.8617\n",
            "Epoch 184/500\n",
            "516/516 [==============================] - 20s 39ms/step - loss: 0.0454 - accuracy: 0.8949 - val_loss: 0.0884 - val_accuracy: 0.8436\n",
            "Epoch 185/500\n",
            "516/516 [==============================] - 20s 39ms/step - loss: 0.0456 - accuracy: 0.8911 - val_loss: 0.0774 - val_accuracy: 0.8571\n",
            "Epoch 186/500\n",
            "516/516 [==============================] - 20s 39ms/step - loss: 0.0453 - accuracy: 0.8925 - val_loss: 0.0931 - val_accuracy: 0.8344\n",
            "Epoch 187/500\n",
            "516/516 [==============================] - 20s 39ms/step - loss: 0.0449 - accuracy: 0.8957 - val_loss: 0.0639 - val_accuracy: 0.8772\n",
            "Epoch 188/500\n",
            "516/516 [==============================] - 20s 39ms/step - loss: 0.0449 - accuracy: 0.8934 - val_loss: 0.0634 - val_accuracy: 0.8828\n",
            "Epoch 189/500\n",
            "516/516 [==============================] - 20s 39ms/step - loss: 0.0459 - accuracy: 0.8904 - val_loss: 0.0446 - val_accuracy: 0.9024\n",
            "Epoch 190/500\n",
            "516/516 [==============================] - 20s 39ms/step - loss: 0.0437 - accuracy: 0.8981 - val_loss: 0.0423 - val_accuracy: 0.9085\n",
            "Epoch 191/500\n",
            "516/516 [==============================] - 20s 39ms/step - loss: 0.0444 - accuracy: 0.8975 - val_loss: 0.1014 - val_accuracy: 0.8361\n",
            "Epoch 192/500\n",
            "516/516 [==============================] - 20s 39ms/step - loss: 0.0440 - accuracy: 0.8984 - val_loss: 0.0708 - val_accuracy: 0.8671\n",
            "Epoch 193/500\n",
            "516/516 [==============================] - 20s 39ms/step - loss: 0.0448 - accuracy: 0.8935 - val_loss: 0.0936 - val_accuracy: 0.8397\n",
            "Epoch 194/500\n",
            "516/516 [==============================] - 20s 39ms/step - loss: 0.0442 - accuracy: 0.8972 - val_loss: 0.0684 - val_accuracy: 0.8731\n",
            "Epoch 195/500\n",
            "516/516 [==============================] - 20s 39ms/step - loss: 0.0442 - accuracy: 0.8958 - val_loss: 0.0665 - val_accuracy: 0.8775\n",
            "Epoch 196/500\n",
            "516/516 [==============================] - 20s 39ms/step - loss: 0.0439 - accuracy: 0.8975 - val_loss: 0.0675 - val_accuracy: 0.8685\n",
            "Epoch 197/500\n",
            "516/516 [==============================] - 20s 39ms/step - loss: 0.0441 - accuracy: 0.8954 - val_loss: 0.0719 - val_accuracy: 0.8692\n",
            "Epoch 198/500\n",
            "516/516 [==============================] - 20s 39ms/step - loss: 0.0436 - accuracy: 0.8975 - val_loss: 0.0470 - val_accuracy: 0.9027\n",
            "Epoch 199/500\n",
            "516/516 [==============================] - 20s 39ms/step - loss: 0.0434 - accuracy: 0.8978 - val_loss: 0.0620 - val_accuracy: 0.8811\n",
            "Epoch 200/500\n",
            "516/516 [==============================] - 20s 39ms/step - loss: 0.0434 - accuracy: 0.8990 - val_loss: 0.0511 - val_accuracy: 0.8937\n",
            "Epoch 201/500\n",
            "516/516 [==============================] - 20s 39ms/step - loss: 0.0431 - accuracy: 0.9006 - val_loss: 0.1040 - val_accuracy: 0.8351\n",
            "Epoch 202/500\n",
            "516/516 [==============================] - 20s 39ms/step - loss: 0.0434 - accuracy: 0.8997 - val_loss: 0.0910 - val_accuracy: 0.8479\n",
            "Epoch 203/500\n",
            "516/516 [==============================] - 20s 39ms/step - loss: 0.0431 - accuracy: 0.8981 - val_loss: 0.0540 - val_accuracy: 0.8918\n",
            "Epoch 204/500\n",
            "516/516 [==============================] - 20s 39ms/step - loss: 0.0429 - accuracy: 0.8979 - val_loss: 0.1017 - val_accuracy: 0.8310\n",
            "Epoch 205/500\n",
            "516/516 [==============================] - 20s 39ms/step - loss: 0.0438 - accuracy: 0.8974 - val_loss: 0.0661 - val_accuracy: 0.8734\n",
            "Epoch 206/500\n",
            "516/516 [==============================] - 20s 39ms/step - loss: 0.0427 - accuracy: 0.9006 - val_loss: 0.0767 - val_accuracy: 0.8625\n",
            "Epoch 207/500\n",
            "516/516 [==============================] - 20s 39ms/step - loss: 0.0432 - accuracy: 0.9020 - val_loss: 0.0631 - val_accuracy: 0.8797\n",
            "Epoch 208/500\n",
            "516/516 [==============================] - 20s 39ms/step - loss: 0.0432 - accuracy: 0.8992 - val_loss: 0.0616 - val_accuracy: 0.8801\n",
            "Epoch 209/500\n",
            "516/516 [==============================] - 20s 39ms/step - loss: 0.0424 - accuracy: 0.9026 - val_loss: 0.0835 - val_accuracy: 0.8622\n",
            "Epoch 210/500\n",
            "516/516 [==============================] - 20s 39ms/step - loss: 0.0423 - accuracy: 0.9012 - val_loss: 0.0631 - val_accuracy: 0.8862\n",
            "Epoch 211/500\n",
            "516/516 [==============================] - 20s 39ms/step - loss: 0.0431 - accuracy: 0.9012 - val_loss: 0.0709 - val_accuracy: 0.8705\n",
            "Epoch 212/500\n",
            "516/516 [==============================] - 20s 39ms/step - loss: 0.0430 - accuracy: 0.8988 - val_loss: 0.0780 - val_accuracy: 0.8622\n",
            "Epoch 213/500\n",
            "516/516 [==============================] - 20s 39ms/step - loss: 0.0427 - accuracy: 0.8992 - val_loss: 0.0596 - val_accuracy: 0.8925\n",
            "Epoch 214/500\n",
            "516/516 [==============================] - 20s 39ms/step - loss: 0.0414 - accuracy: 0.9034 - val_loss: 0.0575 - val_accuracy: 0.8978\n",
            "Epoch 215/500\n",
            "516/516 [==============================] - 20s 39ms/step - loss: 0.0427 - accuracy: 0.9011 - val_loss: 0.0679 - val_accuracy: 0.8804\n",
            "Epoch 216/500\n",
            "516/516 [==============================] - 20s 39ms/step - loss: 0.0422 - accuracy: 0.9022 - val_loss: 0.0601 - val_accuracy: 0.8843\n",
            "Epoch 217/500\n",
            "516/516 [==============================] - 20s 39ms/step - loss: 0.0419 - accuracy: 0.9008 - val_loss: 0.0657 - val_accuracy: 0.8797\n",
            "Epoch 218/500\n",
            "516/516 [==============================] - 20s 39ms/step - loss: 0.0420 - accuracy: 0.9020 - val_loss: 0.0797 - val_accuracy: 0.8591\n",
            "Epoch 219/500\n",
            "516/516 [==============================] - 20s 39ms/step - loss: 0.0414 - accuracy: 0.9061 - val_loss: 0.0730 - val_accuracy: 0.8688\n",
            "Epoch 220/500\n",
            "516/516 [==============================] - 20s 39ms/step - loss: 0.0416 - accuracy: 0.9055 - val_loss: 0.0719 - val_accuracy: 0.8726\n",
            "Epoch 221/500\n",
            "516/516 [==============================] - 20s 39ms/step - loss: 0.0421 - accuracy: 0.9033 - val_loss: 0.0452 - val_accuracy: 0.9111\n",
            "Epoch 222/500\n",
            "516/516 [==============================] - 20s 39ms/step - loss: 0.0414 - accuracy: 0.9048 - val_loss: 0.0614 - val_accuracy: 0.8877\n",
            "Epoch 223/500\n",
            "516/516 [==============================] - 20s 39ms/step - loss: 0.0409 - accuracy: 0.9051 - val_loss: 0.0995 - val_accuracy: 0.8375\n",
            "Epoch 224/500\n",
            "516/516 [==============================] - 20s 39ms/step - loss: 0.0411 - accuracy: 0.9039 - val_loss: 0.0569 - val_accuracy: 0.8901\n",
            "Epoch 225/500\n",
            "516/516 [==============================] - 20s 39ms/step - loss: 0.0406 - accuracy: 0.9042 - val_loss: 0.0639 - val_accuracy: 0.8833\n",
            "Epoch 226/500\n",
            "516/516 [==============================] - 20s 39ms/step - loss: 0.0412 - accuracy: 0.9059 - val_loss: 0.0881 - val_accuracy: 0.8535\n",
            "Epoch 227/500\n",
            "516/516 [==============================] - 20s 39ms/step - loss: 0.0402 - accuracy: 0.9090 - val_loss: 0.0581 - val_accuracy: 0.8966\n",
            "Epoch 228/500\n",
            "516/516 [==============================] - 20s 39ms/step - loss: 0.0409 - accuracy: 0.9075 - val_loss: 0.0449 - val_accuracy: 0.9123\n",
            "Epoch 229/500\n",
            "516/516 [==============================] - 20s 39ms/step - loss: 0.0413 - accuracy: 0.9060 - val_loss: 0.0786 - val_accuracy: 0.8630\n",
            "Epoch 230/500\n",
            "516/516 [==============================] - 20s 39ms/step - loss: 0.0408 - accuracy: 0.9050 - val_loss: 0.0642 - val_accuracy: 0.8898\n",
            "Epoch 231/500\n",
            "516/516 [==============================] - 20s 39ms/step - loss: 0.0409 - accuracy: 0.9068 - val_loss: 0.0624 - val_accuracy: 0.8930\n",
            "Epoch 232/500\n",
            "516/516 [==============================] - 20s 39ms/step - loss: 0.0403 - accuracy: 0.9087 - val_loss: 0.0652 - val_accuracy: 0.8801\n",
            "Epoch 233/500\n",
            "516/516 [==============================] - 20s 39ms/step - loss: 0.0408 - accuracy: 0.9076 - val_loss: 0.0719 - val_accuracy: 0.8726\n",
            "Epoch 234/500\n",
            "516/516 [==============================] - 20s 39ms/step - loss: 0.0405 - accuracy: 0.9050 - val_loss: 0.0964 - val_accuracy: 0.8530\n",
            "Epoch 235/500\n",
            "516/516 [==============================] - 20s 39ms/step - loss: 0.0408 - accuracy: 0.9052 - val_loss: 0.0792 - val_accuracy: 0.8673\n",
            "Epoch 236/500\n",
            "516/516 [==============================] - 21s 40ms/step - loss: 0.0401 - accuracy: 0.9089 - val_loss: 0.0585 - val_accuracy: 0.8937\n",
            "Epoch 237/500\n",
            "516/516 [==============================] - 20s 39ms/step - loss: 0.0402 - accuracy: 0.9051 - val_loss: 0.0880 - val_accuracy: 0.8542\n",
            "Epoch 238/500\n",
            "516/516 [==============================] - 20s 39ms/step - loss: 0.0407 - accuracy: 0.9080 - val_loss: 0.0916 - val_accuracy: 0.8506\n",
            "Epoch 239/500\n",
            "516/516 [==============================] - 20s 39ms/step - loss: 0.0400 - accuracy: 0.9081 - val_loss: 0.0775 - val_accuracy: 0.8678\n",
            "Epoch 240/500\n",
            "516/516 [==============================] - 20s 39ms/step - loss: 0.0399 - accuracy: 0.9096 - val_loss: 0.0687 - val_accuracy: 0.8765\n",
            "Epoch 241/500\n",
            "516/516 [==============================] - 20s 39ms/step - loss: 0.0390 - accuracy: 0.9111 - val_loss: 0.0671 - val_accuracy: 0.8818\n",
            "Epoch 242/500\n",
            "516/516 [==============================] - 20s 39ms/step - loss: 0.0409 - accuracy: 0.9041 - val_loss: 0.0574 - val_accuracy: 0.8925\n",
            "Epoch 243/500\n",
            "516/516 [==============================] - 20s 39ms/step - loss: 0.0397 - accuracy: 0.9092 - val_loss: 0.0732 - val_accuracy: 0.8741\n",
            "Epoch 244/500\n",
            "516/516 [==============================] - 20s 39ms/step - loss: 0.0390 - accuracy: 0.9130 - val_loss: 0.0969 - val_accuracy: 0.8506\n",
            "Epoch 245/500\n",
            "516/516 [==============================] - 20s 39ms/step - loss: 0.0409 - accuracy: 0.9060 - val_loss: 0.0692 - val_accuracy: 0.8801\n",
            "Epoch 246/500\n",
            "516/516 [==============================] - 20s 39ms/step - loss: 0.0397 - accuracy: 0.9060 - val_loss: 0.0815 - val_accuracy: 0.8685\n",
            "Epoch 247/500\n",
            "516/516 [==============================] - 20s 39ms/step - loss: 0.0389 - accuracy: 0.9118 - val_loss: 0.0653 - val_accuracy: 0.8903\n",
            "Epoch 248/500\n",
            "516/516 [==============================] - 20s 39ms/step - loss: 0.0387 - accuracy: 0.9121 - val_loss: 0.0731 - val_accuracy: 0.8743\n",
            "Epoch 249/500\n",
            "516/516 [==============================] - 20s 39ms/step - loss: 0.0391 - accuracy: 0.9099 - val_loss: 0.0819 - val_accuracy: 0.8748\n",
            "Epoch 250/500\n",
            "516/516 [==============================] - 20s 39ms/step - loss: 0.0393 - accuracy: 0.9103 - val_loss: 0.1074 - val_accuracy: 0.8392\n",
            "Epoch 251/500\n",
            "516/516 [==============================] - 20s 39ms/step - loss: 0.0396 - accuracy: 0.9097 - val_loss: 0.0885 - val_accuracy: 0.8569\n",
            "Epoch 252/500\n",
            "516/516 [==============================] - 20s 39ms/step - loss: 0.0393 - accuracy: 0.9118 - val_loss: 0.0942 - val_accuracy: 0.8528\n",
            "Epoch 253/500\n",
            "516/516 [==============================] - 20s 39ms/step - loss: 0.0389 - accuracy: 0.9115 - val_loss: 0.0862 - val_accuracy: 0.8581\n",
            "Epoch 254/500\n",
            "516/516 [==============================] - 20s 39ms/step - loss: 0.0380 - accuracy: 0.9135 - val_loss: 0.0833 - val_accuracy: 0.8622\n",
            "Epoch 255/500\n",
            "516/516 [==============================] - 20s 39ms/step - loss: 0.0379 - accuracy: 0.9174 - val_loss: 0.0736 - val_accuracy: 0.8743\n",
            "Epoch 256/500\n",
            "516/516 [==============================] - 20s 39ms/step - loss: 0.0388 - accuracy: 0.9106 - val_loss: 0.0910 - val_accuracy: 0.8567\n",
            "Epoch 257/500\n",
            "516/516 [==============================] - 20s 39ms/step - loss: 0.0383 - accuracy: 0.9106 - val_loss: 0.0727 - val_accuracy: 0.8818\n",
            "Epoch 258/500\n",
            "516/516 [==============================] - 20s 39ms/step - loss: 0.0387 - accuracy: 0.9126 - val_loss: 0.0747 - val_accuracy: 0.8818\n",
            "Epoch 259/500\n",
            "516/516 [==============================] - 20s 39ms/step - loss: 0.0384 - accuracy: 0.9143 - val_loss: 0.0653 - val_accuracy: 0.8867\n",
            "Epoch 260/500\n",
            "516/516 [==============================] - 20s 39ms/step - loss: 0.0386 - accuracy: 0.9120 - val_loss: 0.0597 - val_accuracy: 0.8954\n",
            "Epoch 261/500\n",
            "516/516 [==============================] - 20s 39ms/step - loss: 0.0385 - accuracy: 0.9155 - val_loss: 0.0847 - val_accuracy: 0.8719\n",
            "Epoch 262/500\n",
            "516/516 [==============================] - 20s 39ms/step - loss: 0.0389 - accuracy: 0.9115 - val_loss: 0.0933 - val_accuracy: 0.8593\n",
            "Epoch 263/500\n",
            "516/516 [==============================] - 20s 39ms/step - loss: 0.0395 - accuracy: 0.9060 - val_loss: 0.0670 - val_accuracy: 0.8891\n",
            "Epoch 264/500\n",
            "516/516 [==============================] - 20s 39ms/step - loss: 0.0379 - accuracy: 0.9142 - val_loss: 0.0818 - val_accuracy: 0.8695\n",
            "Epoch 265/500\n",
            "516/516 [==============================] - 20s 39ms/step - loss: 0.0383 - accuracy: 0.9105 - val_loss: 0.0898 - val_accuracy: 0.8613\n",
            "Epoch 266/500\n",
            "516/516 [==============================] - 20s 39ms/step - loss: 0.0384 - accuracy: 0.9132 - val_loss: 0.1085 - val_accuracy: 0.8380\n",
            "Epoch 267/500\n",
            "516/516 [==============================] - 20s 39ms/step - loss: 0.0373 - accuracy: 0.9143 - val_loss: 0.0816 - val_accuracy: 0.8760\n",
            "Epoch 268/500\n",
            "516/516 [==============================] - 20s 39ms/step - loss: 0.0383 - accuracy: 0.9131 - val_loss: 0.0932 - val_accuracy: 0.8627\n",
            "Epoch 269/500\n",
            "516/516 [==============================] - 20s 39ms/step - loss: 0.0380 - accuracy: 0.9122 - val_loss: 0.0630 - val_accuracy: 0.8964\n",
            "Epoch 270/500\n",
            "516/516 [==============================] - 20s 39ms/step - loss: 0.0378 - accuracy: 0.9152 - val_loss: 0.0718 - val_accuracy: 0.8811\n",
            "Epoch 271/500\n",
            "516/516 [==============================] - 20s 39ms/step - loss: 0.0385 - accuracy: 0.9105 - val_loss: 0.0710 - val_accuracy: 0.8879\n",
            "Epoch 272/500\n",
            "516/516 [==============================] - 20s 39ms/step - loss: 0.0385 - accuracy: 0.9126 - val_loss: 0.0558 - val_accuracy: 0.9029\n",
            "Epoch 273/500\n",
            "516/516 [==============================] - 20s 39ms/step - loss: 0.0381 - accuracy: 0.9135 - val_loss: 0.0685 - val_accuracy: 0.8811\n",
            "Epoch 274/500\n",
            "516/516 [==============================] - 20s 39ms/step - loss: 0.0368 - accuracy: 0.9182 - val_loss: 0.0828 - val_accuracy: 0.8753\n",
            "Epoch 275/500\n",
            "516/516 [==============================] - 20s 39ms/step - loss: 0.0369 - accuracy: 0.9188 - val_loss: 0.0789 - val_accuracy: 0.8794\n",
            "Epoch 276/500\n",
            "516/516 [==============================] - 20s 39ms/step - loss: 0.0378 - accuracy: 0.9119 - val_loss: 0.0685 - val_accuracy: 0.8884\n",
            "Epoch 277/500\n",
            "516/516 [==============================] - 20s 39ms/step - loss: 0.0369 - accuracy: 0.9187 - val_loss: 0.0697 - val_accuracy: 0.8847\n",
            "Epoch 278/500\n",
            "516/516 [==============================] - 20s 39ms/step - loss: 0.0369 - accuracy: 0.9160 - val_loss: 0.0559 - val_accuracy: 0.9022\n",
            "Epoch 279/500\n",
            "516/516 [==============================] - 20s 39ms/step - loss: 0.0372 - accuracy: 0.9159 - val_loss: 0.0730 - val_accuracy: 0.8850\n",
            "Epoch 280/500\n",
            "516/516 [==============================] - 20s 39ms/step - loss: 0.0378 - accuracy: 0.9134 - val_loss: 0.0661 - val_accuracy: 0.8901\n",
            "Epoch 281/500\n",
            "516/516 [==============================] - 20s 39ms/step - loss: 0.0371 - accuracy: 0.9183 - val_loss: 0.0828 - val_accuracy: 0.8680\n",
            "Epoch 282/500\n",
            "516/516 [==============================] - 20s 39ms/step - loss: 0.0376 - accuracy: 0.9146 - val_loss: 0.0876 - val_accuracy: 0.8702\n",
            "Epoch 283/500\n",
            "516/516 [==============================] - 20s 39ms/step - loss: 0.0373 - accuracy: 0.9140 - val_loss: 0.0623 - val_accuracy: 0.8927\n",
            "Epoch 284/500\n",
            "516/516 [==============================] - 20s 39ms/step - loss: 0.0372 - accuracy: 0.9167 - val_loss: 0.0795 - val_accuracy: 0.8765\n",
            "Epoch 285/500\n",
            "516/516 [==============================] - 20s 39ms/step - loss: 0.0367 - accuracy: 0.9172 - val_loss: 0.0567 - val_accuracy: 0.9012\n",
            "Epoch 286/500\n",
            "516/516 [==============================] - 20s 39ms/step - loss: 0.0376 - accuracy: 0.9165 - val_loss: 0.0814 - val_accuracy: 0.8753\n",
            "Epoch 287/500\n",
            "516/516 [==============================] - 20s 39ms/step - loss: 0.0372 - accuracy: 0.9162 - val_loss: 0.0683 - val_accuracy: 0.8869\n",
            "Epoch 288/500\n",
            "516/516 [==============================] - 20s 39ms/step - loss: 0.0368 - accuracy: 0.9178 - val_loss: 0.0918 - val_accuracy: 0.8596\n",
            "Epoch 289/500\n",
            "516/516 [==============================] - 20s 39ms/step - loss: 0.0360 - accuracy: 0.9169 - val_loss: 0.0789 - val_accuracy: 0.8748\n",
            "Epoch 290/500\n",
            "516/516 [==============================] - 20s 39ms/step - loss: 0.0370 - accuracy: 0.9160 - val_loss: 0.0759 - val_accuracy: 0.8751\n",
            "Epoch 291/500\n",
            "516/516 [==============================] - 20s 39ms/step - loss: 0.0360 - accuracy: 0.9200 - val_loss: 0.0915 - val_accuracy: 0.8695\n",
            "Epoch 292/500\n",
            "516/516 [==============================] - 20s 39ms/step - loss: 0.0365 - accuracy: 0.9175 - val_loss: 0.0900 - val_accuracy: 0.8700\n",
            "Epoch 293/500\n",
            "516/516 [==============================] - 20s 39ms/step - loss: 0.0364 - accuracy: 0.9171 - val_loss: 0.1058 - val_accuracy: 0.8538\n",
            "Epoch 294/500\n",
            "516/516 [==============================] - 20s 39ms/step - loss: 0.0371 - accuracy: 0.9179 - val_loss: 0.0684 - val_accuracy: 0.8915\n",
            "Epoch 295/500\n",
            "516/516 [==============================] - 20s 39ms/step - loss: 0.0363 - accuracy: 0.9169 - val_loss: 0.0621 - val_accuracy: 0.8896\n",
            "Epoch 296/500\n",
            "516/516 [==============================] - 20s 39ms/step - loss: 0.0362 - accuracy: 0.9185 - val_loss: 0.0734 - val_accuracy: 0.8823\n",
            "Epoch 297/500\n",
            "516/516 [==============================] - 20s 39ms/step - loss: 0.0366 - accuracy: 0.9167 - val_loss: 0.0739 - val_accuracy: 0.8901\n",
            "Epoch 298/500\n",
            "516/516 [==============================] - 20s 39ms/step - loss: 0.0366 - accuracy: 0.9160 - val_loss: 0.0936 - val_accuracy: 0.8683\n",
            "Epoch 299/500\n",
            "516/516 [==============================] - 20s 39ms/step - loss: 0.0360 - accuracy: 0.9193 - val_loss: 0.1022 - val_accuracy: 0.8523\n",
            "Epoch 300/500\n",
            "516/516 [==============================] - 20s 39ms/step - loss: 0.0362 - accuracy: 0.9187 - val_loss: 0.0963 - val_accuracy: 0.8649\n",
            "Epoch 301/500\n",
            "516/516 [==============================] - 20s 40ms/step - loss: 0.0358 - accuracy: 0.9212 - val_loss: 0.0861 - val_accuracy: 0.8697\n",
            "Epoch 302/500\n",
            "516/516 [==============================] - 20s 39ms/step - loss: 0.0357 - accuracy: 0.9204 - val_loss: 0.0714 - val_accuracy: 0.8879\n",
            "Epoch 303/500\n",
            "516/516 [==============================] - 20s 39ms/step - loss: 0.0353 - accuracy: 0.9219 - val_loss: 0.0801 - val_accuracy: 0.8763\n",
            "Epoch 304/500\n",
            "516/516 [==============================] - 20s 39ms/step - loss: 0.0362 - accuracy: 0.9154 - val_loss: 0.0895 - val_accuracy: 0.8649\n",
            "Epoch 305/500\n",
            "516/516 [==============================] - 20s 39ms/step - loss: 0.0361 - accuracy: 0.9193 - val_loss: 0.0834 - val_accuracy: 0.8722\n",
            "Epoch 306/500\n",
            "516/516 [==============================] - 20s 39ms/step - loss: 0.0363 - accuracy: 0.9179 - val_loss: 0.0757 - val_accuracy: 0.8806\n",
            "Epoch 307/500\n",
            "516/516 [==============================] - 20s 39ms/step - loss: 0.0360 - accuracy: 0.9208 - val_loss: 0.0837 - val_accuracy: 0.8709\n",
            "Epoch 308/500\n",
            "516/516 [==============================] - 20s 39ms/step - loss: 0.0361 - accuracy: 0.9173 - val_loss: 0.0619 - val_accuracy: 0.8998\n",
            "Epoch 309/500\n",
            "516/516 [==============================] - 20s 39ms/step - loss: 0.0348 - accuracy: 0.9221 - val_loss: 0.0610 - val_accuracy: 0.9034\n",
            "Epoch 310/500\n",
            "516/516 [==============================] - 20s 39ms/step - loss: 0.0348 - accuracy: 0.9228 - val_loss: 0.0645 - val_accuracy: 0.8959\n",
            "Epoch 311/500\n",
            "516/516 [==============================] - 20s 39ms/step - loss: 0.0351 - accuracy: 0.9224 - val_loss: 0.0477 - val_accuracy: 0.9145\n",
            "Epoch 312/500\n",
            "516/516 [==============================] - 20s 39ms/step - loss: 0.0353 - accuracy: 0.9202 - val_loss: 0.0936 - val_accuracy: 0.8692\n",
            "Epoch 313/500\n",
            "516/516 [==============================] - 20s 39ms/step - loss: 0.0355 - accuracy: 0.9215 - val_loss: 0.1167 - val_accuracy: 0.8412\n",
            "Epoch 314/500\n",
            "516/516 [==============================] - 20s 39ms/step - loss: 0.0356 - accuracy: 0.9230 - val_loss: 0.1003 - val_accuracy: 0.8586\n",
            "Epoch 315/500\n",
            "516/516 [==============================] - 20s 39ms/step - loss: 0.0344 - accuracy: 0.9229 - val_loss: 0.0705 - val_accuracy: 0.8908\n",
            "Epoch 316/500\n",
            "516/516 [==============================] - 20s 39ms/step - loss: 0.0354 - accuracy: 0.9193 - val_loss: 0.0758 - val_accuracy: 0.8821\n",
            "Epoch 317/500\n",
            "516/516 [==============================] - 20s 39ms/step - loss: 0.0347 - accuracy: 0.9226 - val_loss: 0.0725 - val_accuracy: 0.8833\n",
            "Epoch 318/500\n",
            "516/516 [==============================] - 20s 39ms/step - loss: 0.0352 - accuracy: 0.9204 - val_loss: 0.1000 - val_accuracy: 0.8596\n",
            "Epoch 319/500\n",
            "516/516 [==============================] - 20s 39ms/step - loss: 0.0344 - accuracy: 0.9249 - val_loss: 0.0720 - val_accuracy: 0.8821\n",
            "Epoch 320/500\n",
            "516/516 [==============================] - 20s 39ms/step - loss: 0.0345 - accuracy: 0.9247 - val_loss: 0.0825 - val_accuracy: 0.8738\n",
            "Epoch 321/500\n",
            "516/516 [==============================] - 20s 39ms/step - loss: 0.0349 - accuracy: 0.9217 - val_loss: 0.0962 - val_accuracy: 0.8630\n",
            "Epoch 322/500\n",
            "516/516 [==============================] - 20s 39ms/step - loss: 0.0346 - accuracy: 0.9229 - val_loss: 0.0662 - val_accuracy: 0.8949\n",
            "Epoch 323/500\n",
            "516/516 [==============================] - 20s 39ms/step - loss: 0.0347 - accuracy: 0.9239 - val_loss: 0.0811 - val_accuracy: 0.8763\n",
            "Epoch 324/500\n",
            "516/516 [==============================] - 20s 39ms/step - loss: 0.0353 - accuracy: 0.9205 - val_loss: 0.0830 - val_accuracy: 0.8755\n",
            "Epoch 325/500\n",
            "516/516 [==============================] - 20s 39ms/step - loss: 0.0343 - accuracy: 0.9241 - val_loss: 0.0576 - val_accuracy: 0.9044\n",
            "Epoch 326/500\n",
            "516/516 [==============================] - 20s 39ms/step - loss: 0.0345 - accuracy: 0.9239 - val_loss: 0.0951 - val_accuracy: 0.8627\n",
            "Epoch 327/500\n",
            "516/516 [==============================] - 20s 39ms/step - loss: 0.0339 - accuracy: 0.9242 - val_loss: 0.1162 - val_accuracy: 0.8542\n",
            "Epoch 328/500\n",
            "516/516 [==============================] - 20s 39ms/step - loss: 0.0343 - accuracy: 0.9251 - val_loss: 0.0624 - val_accuracy: 0.9010\n",
            "Epoch 329/500\n",
            "516/516 [==============================] - 20s 39ms/step - loss: 0.0348 - accuracy: 0.9212 - val_loss: 0.1269 - val_accuracy: 0.8385\n",
            "Epoch 330/500\n",
            "516/516 [==============================] - 20s 39ms/step - loss: 0.0341 - accuracy: 0.9205 - val_loss: 0.0753 - val_accuracy: 0.8862\n",
            "Epoch 331/500\n",
            "516/516 [==============================] - 20s 39ms/step - loss: 0.0341 - accuracy: 0.9225 - val_loss: 0.0824 - val_accuracy: 0.8729\n",
            "Epoch 332/500\n",
            "516/516 [==============================] - 20s 39ms/step - loss: 0.0334 - accuracy: 0.9251 - val_loss: 0.1052 - val_accuracy: 0.8511\n",
            "Epoch 333/500\n",
            "516/516 [==============================] - 20s 39ms/step - loss: 0.0344 - accuracy: 0.9241 - val_loss: 0.0660 - val_accuracy: 0.8937\n",
            "Epoch 334/500\n",
            "516/516 [==============================] - 20s 39ms/step - loss: 0.0344 - accuracy: 0.9229 - val_loss: 0.1116 - val_accuracy: 0.8477\n",
            "Epoch 335/500\n",
            "516/516 [==============================] - 20s 39ms/step - loss: 0.0350 - accuracy: 0.9232 - val_loss: 0.0765 - val_accuracy: 0.8838\n",
            "Epoch 336/500\n",
            "516/516 [==============================] - 20s 39ms/step - loss: 0.0340 - accuracy: 0.9242 - val_loss: 0.0664 - val_accuracy: 0.8969\n",
            "Epoch 337/500\n",
            "516/516 [==============================] - 20s 39ms/step - loss: 0.0344 - accuracy: 0.9230 - val_loss: 0.0849 - val_accuracy: 0.8772\n",
            "Epoch 338/500\n",
            "516/516 [==============================] - 20s 39ms/step - loss: 0.0339 - accuracy: 0.9264 - val_loss: 0.0633 - val_accuracy: 0.9036\n",
            "Epoch 339/500\n",
            "516/516 [==============================] - 20s 39ms/step - loss: 0.0342 - accuracy: 0.9236 - val_loss: 0.0674 - val_accuracy: 0.9005\n",
            "Epoch 340/500\n",
            "516/516 [==============================] - 20s 39ms/step - loss: 0.0337 - accuracy: 0.9247 - val_loss: 0.0629 - val_accuracy: 0.9029\n",
            "Epoch 341/500\n",
            "516/516 [==============================] - 20s 39ms/step - loss: 0.0342 - accuracy: 0.9245 - val_loss: 0.1121 - val_accuracy: 0.8533\n",
            "Epoch 342/500\n",
            "516/516 [==============================] - 20s 39ms/step - loss: 0.0344 - accuracy: 0.9248 - val_loss: 0.0568 - val_accuracy: 0.9097\n",
            "Epoch 343/500\n",
            "516/516 [==============================] - 20s 39ms/step - loss: 0.0331 - accuracy: 0.9272 - val_loss: 0.0729 - val_accuracy: 0.8855\n",
            "Epoch 344/500\n",
            "516/516 [==============================] - 20s 39ms/step - loss: 0.0326 - accuracy: 0.9279 - val_loss: 0.0507 - val_accuracy: 0.9155\n",
            "Epoch 345/500\n",
            "516/516 [==============================] - 20s 39ms/step - loss: 0.0332 - accuracy: 0.9281 - val_loss: 0.0812 - val_accuracy: 0.8864\n",
            "Epoch 346/500\n",
            "516/516 [==============================] - 20s 39ms/step - loss: 0.0334 - accuracy: 0.9255 - val_loss: 0.0849 - val_accuracy: 0.8809\n",
            "Epoch 347/500\n",
            "516/516 [==============================] - 20s 39ms/step - loss: 0.0344 - accuracy: 0.9222 - val_loss: 0.0566 - val_accuracy: 0.9029\n",
            "Epoch 348/500\n",
            "516/516 [==============================] - 20s 39ms/step - loss: 0.0333 - accuracy: 0.9288 - val_loss: 0.0761 - val_accuracy: 0.8860\n",
            "Epoch 349/500\n",
            "516/516 [==============================] - 20s 39ms/step - loss: 0.0329 - accuracy: 0.9259 - val_loss: 0.0728 - val_accuracy: 0.8971\n",
            "Epoch 350/500\n",
            "516/516 [==============================] - 20s 39ms/step - loss: 0.0334 - accuracy: 0.9271 - val_loss: 0.0738 - val_accuracy: 0.8966\n",
            "Epoch 351/500\n",
            "516/516 [==============================] - 20s 39ms/step - loss: 0.0327 - accuracy: 0.9281 - val_loss: 0.0756 - val_accuracy: 0.8886\n",
            "Epoch 352/500\n",
            "516/516 [==============================] - 20s 39ms/step - loss: 0.0337 - accuracy: 0.9253 - val_loss: 0.0699 - val_accuracy: 0.8925\n",
            "Epoch 353/500\n",
            "516/516 [==============================] - 20s 39ms/step - loss: 0.0328 - accuracy: 0.9271 - val_loss: 0.0955 - val_accuracy: 0.8637\n",
            "Epoch 354/500\n",
            "516/516 [==============================] - 20s 39ms/step - loss: 0.0329 - accuracy: 0.9284 - val_loss: 0.0674 - val_accuracy: 0.8966\n",
            "Epoch 355/500\n",
            "516/516 [==============================] - 20s 39ms/step - loss: 0.0332 - accuracy: 0.9269 - val_loss: 0.0894 - val_accuracy: 0.8777\n",
            "Epoch 356/500\n",
            "516/516 [==============================] - 20s 39ms/step - loss: 0.0324 - accuracy: 0.9303 - val_loss: 0.0873 - val_accuracy: 0.8792\n",
            "Epoch 357/500\n",
            "516/516 [==============================] - 20s 39ms/step - loss: 0.0336 - accuracy: 0.9277 - val_loss: 0.0801 - val_accuracy: 0.8831\n",
            "Epoch 358/500\n",
            "516/516 [==============================] - 20s 39ms/step - loss: 0.0336 - accuracy: 0.9251 - val_loss: 0.1176 - val_accuracy: 0.8525\n",
            "Epoch 359/500\n",
            "516/516 [==============================] - 20s 39ms/step - loss: 0.0326 - accuracy: 0.9278 - val_loss: 0.1005 - val_accuracy: 0.8654\n",
            "Epoch 360/500\n",
            "516/516 [==============================] - 20s 39ms/step - loss: 0.0328 - accuracy: 0.9279 - val_loss: 0.0711 - val_accuracy: 0.8942\n",
            "Epoch 361/500\n",
            "516/516 [==============================] - 20s 39ms/step - loss: 0.0330 - accuracy: 0.9263 - val_loss: 0.0931 - val_accuracy: 0.8758\n",
            "Epoch 362/500\n",
            "516/516 [==============================] - 20s 39ms/step - loss: 0.0324 - accuracy: 0.9308 - val_loss: 0.0802 - val_accuracy: 0.8833\n",
            "Epoch 363/500\n",
            "516/516 [==============================] - 20s 39ms/step - loss: 0.0327 - accuracy: 0.9290 - val_loss: 0.0775 - val_accuracy: 0.8845\n",
            "Epoch 364/500\n",
            "516/516 [==============================] - 20s 39ms/step - loss: 0.0326 - accuracy: 0.9284 - val_loss: 0.0930 - val_accuracy: 0.8731\n",
            "Epoch 365/500\n",
            "516/516 [==============================] - 20s 39ms/step - loss: 0.0327 - accuracy: 0.9291 - val_loss: 0.0919 - val_accuracy: 0.8709\n",
            "Epoch 366/500\n",
            "516/516 [==============================] - 20s 39ms/step - loss: 0.0319 - accuracy: 0.9315 - val_loss: 0.1088 - val_accuracy: 0.8625\n",
            "Epoch 367/500\n",
            "516/516 [==============================] - 20s 39ms/step - loss: 0.0329 - accuracy: 0.9287 - val_loss: 0.0745 - val_accuracy: 0.8981\n",
            "Epoch 368/500\n",
            "516/516 [==============================] - 20s 39ms/step - loss: 0.0324 - accuracy: 0.9281 - val_loss: 0.0852 - val_accuracy: 0.8748\n",
            "Epoch 369/500\n",
            "516/516 [==============================] - 20s 39ms/step - loss: 0.0329 - accuracy: 0.9253 - val_loss: 0.0948 - val_accuracy: 0.8709\n",
            "Epoch 370/500\n",
            "516/516 [==============================] - 20s 39ms/step - loss: 0.0333 - accuracy: 0.9264 - val_loss: 0.0863 - val_accuracy: 0.8789\n",
            "Epoch 371/500\n",
            "516/516 [==============================] - 20s 39ms/step - loss: 0.0320 - accuracy: 0.9303 - val_loss: 0.0868 - val_accuracy: 0.8707\n",
            "Epoch 372/500\n",
            "516/516 [==============================] - 20s 39ms/step - loss: 0.0326 - accuracy: 0.9282 - val_loss: 0.0653 - val_accuracy: 0.9017\n",
            "Epoch 373/500\n",
            "516/516 [==============================] - 20s 39ms/step - loss: 0.0325 - accuracy: 0.9273 - val_loss: 0.0955 - val_accuracy: 0.8671\n",
            "Epoch 374/500\n",
            "516/516 [==============================] - 20s 39ms/step - loss: 0.0322 - accuracy: 0.9290 - val_loss: 0.1196 - val_accuracy: 0.8450\n",
            "Epoch 375/500\n",
            "516/516 [==============================] - 20s 39ms/step - loss: 0.0324 - accuracy: 0.9290 - val_loss: 0.0814 - val_accuracy: 0.8840\n",
            "Epoch 376/500\n",
            "516/516 [==============================] - 20s 39ms/step - loss: 0.0320 - accuracy: 0.9299 - val_loss: 0.0715 - val_accuracy: 0.8915\n",
            "Epoch 377/500\n",
            "516/516 [==============================] - 20s 39ms/step - loss: 0.0319 - accuracy: 0.9304 - val_loss: 0.0588 - val_accuracy: 0.9094\n",
            "Epoch 378/500\n",
            "516/516 [==============================] - 20s 39ms/step - loss: 0.0322 - accuracy: 0.9309 - val_loss: 0.0978 - val_accuracy: 0.8688\n",
            "Epoch 379/500\n",
            "516/516 [==============================] - 20s 39ms/step - loss: 0.0316 - accuracy: 0.9312 - val_loss: 0.0903 - val_accuracy: 0.8775\n",
            "Epoch 380/500\n",
            "516/516 [==============================] - 20s 39ms/step - loss: 0.0320 - accuracy: 0.9280 - val_loss: 0.1065 - val_accuracy: 0.8525\n",
            "Epoch 381/500\n",
            "516/516 [==============================] - 20s 39ms/step - loss: 0.0316 - accuracy: 0.9315 - val_loss: 0.0584 - val_accuracy: 0.9114\n",
            "Epoch 382/500\n",
            "516/516 [==============================] - 20s 39ms/step - loss: 0.0325 - accuracy: 0.9294 - val_loss: 0.0720 - val_accuracy: 0.8920\n",
            "Epoch 383/500\n",
            "516/516 [==============================] - 20s 39ms/step - loss: 0.0314 - accuracy: 0.9292 - val_loss: 0.0801 - val_accuracy: 0.8818\n",
            "Epoch 384/500\n",
            "516/516 [==============================] - 20s 39ms/step - loss: 0.0315 - accuracy: 0.9303 - val_loss: 0.0630 - val_accuracy: 0.9000\n",
            "Epoch 385/500\n",
            "516/516 [==============================] - 20s 39ms/step - loss: 0.0320 - accuracy: 0.9321 - val_loss: 0.0757 - val_accuracy: 0.8850\n",
            "Epoch 386/500\n",
            "516/516 [==============================] - 20s 39ms/step - loss: 0.0327 - accuracy: 0.9274 - val_loss: 0.0902 - val_accuracy: 0.8777\n",
            "Epoch 387/500\n",
            "516/516 [==============================] - 20s 39ms/step - loss: 0.0317 - accuracy: 0.9297 - val_loss: 0.0913 - val_accuracy: 0.8755\n",
            "Epoch 388/500\n",
            "516/516 [==============================] - 20s 39ms/step - loss: 0.0316 - accuracy: 0.9291 - val_loss: 0.1037 - val_accuracy: 0.8642\n",
            "Epoch 389/500\n",
            "516/516 [==============================] - 20s 39ms/step - loss: 0.0327 - accuracy: 0.9298 - val_loss: 0.0589 - val_accuracy: 0.9031\n",
            "Epoch 390/500\n",
            "516/516 [==============================] - 20s 39ms/step - loss: 0.0316 - accuracy: 0.9313 - val_loss: 0.0909 - val_accuracy: 0.8785\n",
            "Epoch 391/500\n",
            "516/516 [==============================] - 20s 39ms/step - loss: 0.0316 - accuracy: 0.9315 - val_loss: 0.0914 - val_accuracy: 0.8731\n",
            "Epoch 392/500\n",
            "516/516 [==============================] - 20s 39ms/step - loss: 0.0316 - accuracy: 0.9304 - val_loss: 0.0917 - val_accuracy: 0.8692\n",
            "Epoch 393/500\n",
            "516/516 [==============================] - 20s 39ms/step - loss: 0.0313 - accuracy: 0.9302 - val_loss: 0.0805 - val_accuracy: 0.8789\n",
            "Epoch 394/500\n",
            "516/516 [==============================] - 20s 39ms/step - loss: 0.0319 - accuracy: 0.9313 - val_loss: 0.0863 - val_accuracy: 0.8918\n",
            "Epoch 395/500\n",
            "516/516 [==============================] - 20s 39ms/step - loss: 0.0317 - accuracy: 0.9289 - val_loss: 0.1237 - val_accuracy: 0.8489\n",
            "Epoch 396/500\n",
            "516/516 [==============================] - 20s 39ms/step - loss: 0.0312 - accuracy: 0.9301 - val_loss: 0.0799 - val_accuracy: 0.8877\n",
            "Epoch 397/500\n",
            "516/516 [==============================] - 20s 39ms/step - loss: 0.0313 - accuracy: 0.9318 - val_loss: 0.0722 - val_accuracy: 0.8920\n",
            "Epoch 398/500\n",
            "516/516 [==============================] - 20s 40ms/step - loss: 0.0308 - accuracy: 0.9330 - val_loss: 0.0866 - val_accuracy: 0.8869\n",
            "Epoch 399/500\n",
            "516/516 [==============================] - 20s 39ms/step - loss: 0.0315 - accuracy: 0.9313 - val_loss: 0.0631 - val_accuracy: 0.9036\n",
            "Epoch 400/500\n",
            "516/516 [==============================] - 20s 39ms/step - loss: 0.0317 - accuracy: 0.9338 - val_loss: 0.0794 - val_accuracy: 0.8906\n",
            "Epoch 401/500\n",
            "516/516 [==============================] - 20s 39ms/step - loss: 0.0313 - accuracy: 0.9325 - val_loss: 0.0966 - val_accuracy: 0.8673\n",
            "Epoch 402/500\n",
            "516/516 [==============================] - 20s 39ms/step - loss: 0.0312 - accuracy: 0.9320 - val_loss: 0.0669 - val_accuracy: 0.8939\n",
            "Epoch 403/500\n",
            "516/516 [==============================] - 20s 39ms/step - loss: 0.0304 - accuracy: 0.9327 - val_loss: 0.0864 - val_accuracy: 0.8814\n",
            "Epoch 404/500\n",
            "516/516 [==============================] - 20s 39ms/step - loss: 0.0314 - accuracy: 0.9328 - val_loss: 0.0680 - val_accuracy: 0.8964\n",
            "Epoch 405/500\n",
            "516/516 [==============================] - 20s 39ms/step - loss: 0.0306 - accuracy: 0.9315 - val_loss: 0.0712 - val_accuracy: 0.8978\n",
            "Epoch 406/500\n",
            "516/516 [==============================] - 20s 39ms/step - loss: 0.0300 - accuracy: 0.9347 - val_loss: 0.0702 - val_accuracy: 0.8983\n",
            "Epoch 407/500\n",
            "516/516 [==============================] - 20s 39ms/step - loss: 0.0300 - accuracy: 0.9352 - val_loss: 0.0823 - val_accuracy: 0.8893\n",
            "Epoch 408/500\n",
            "516/516 [==============================] - 20s 39ms/step - loss: 0.0312 - accuracy: 0.9344 - val_loss: 0.1383 - val_accuracy: 0.8346\n",
            "Epoch 409/500\n",
            "516/516 [==============================] - 20s 39ms/step - loss: 0.0307 - accuracy: 0.9356 - val_loss: 0.0618 - val_accuracy: 0.9034\n",
            "Epoch 410/500\n",
            "516/516 [==============================] - 20s 39ms/step - loss: 0.0310 - accuracy: 0.9316 - val_loss: 0.0928 - val_accuracy: 0.8857\n",
            "Epoch 411/500\n",
            "516/516 [==============================] - 20s 39ms/step - loss: 0.0305 - accuracy: 0.9339 - val_loss: 0.0776 - val_accuracy: 0.8867\n",
            "Epoch 412/500\n",
            "516/516 [==============================] - 20s 39ms/step - loss: 0.0305 - accuracy: 0.9316 - val_loss: 0.0950 - val_accuracy: 0.8760\n",
            "Epoch 413/500\n",
            "516/516 [==============================] - 20s 40ms/step - loss: 0.0305 - accuracy: 0.9341 - val_loss: 0.0731 - val_accuracy: 0.8993\n",
            "Epoch 414/500\n",
            "516/516 [==============================] - 20s 39ms/step - loss: 0.0306 - accuracy: 0.9335 - val_loss: 0.1050 - val_accuracy: 0.8683\n",
            "Epoch 415/500\n",
            "516/516 [==============================] - 20s 39ms/step - loss: 0.0306 - accuracy: 0.9352 - val_loss: 0.0796 - val_accuracy: 0.8961\n",
            "Epoch 416/500\n",
            "516/516 [==============================] - 20s 40ms/step - loss: 0.0305 - accuracy: 0.9336 - val_loss: 0.0900 - val_accuracy: 0.8816\n",
            "Epoch 417/500\n",
            "516/516 [==============================] - 20s 39ms/step - loss: 0.0299 - accuracy: 0.9345 - val_loss: 0.0619 - val_accuracy: 0.9097\n",
            "Epoch 418/500\n",
            "516/516 [==============================] - 20s 39ms/step - loss: 0.0299 - accuracy: 0.9370 - val_loss: 0.0978 - val_accuracy: 0.8709\n",
            "Epoch 419/500\n",
            "516/516 [==============================] - 20s 39ms/step - loss: 0.0308 - accuracy: 0.9319 - val_loss: 0.0916 - val_accuracy: 0.8814\n",
            "Epoch 420/500\n",
            "516/516 [==============================] - 20s 39ms/step - loss: 0.0304 - accuracy: 0.9348 - val_loss: 0.0787 - val_accuracy: 0.8918\n",
            "Epoch 421/500\n",
            "516/516 [==============================] - 20s 39ms/step - loss: 0.0295 - accuracy: 0.9384 - val_loss: 0.0521 - val_accuracy: 0.9155\n",
            "Epoch 422/500\n",
            "516/516 [==============================] - 20s 39ms/step - loss: 0.0298 - accuracy: 0.9379 - val_loss: 0.0758 - val_accuracy: 0.8930\n",
            "Epoch 423/500\n",
            "516/516 [==============================] - 20s 39ms/step - loss: 0.0301 - accuracy: 0.9356 - val_loss: 0.0806 - val_accuracy: 0.8898\n",
            "Epoch 424/500\n",
            "516/516 [==============================] - 20s 39ms/step - loss: 0.0293 - accuracy: 0.9370 - val_loss: 0.1252 - val_accuracy: 0.8395\n",
            "Epoch 425/500\n",
            "516/516 [==============================] - 20s 39ms/step - loss: 0.0302 - accuracy: 0.9346 - val_loss: 0.0951 - val_accuracy: 0.8729\n",
            "Epoch 426/500\n",
            "516/516 [==============================] - 20s 39ms/step - loss: 0.0305 - accuracy: 0.9325 - val_loss: 0.0853 - val_accuracy: 0.8828\n",
            "Epoch 427/500\n",
            "516/516 [==============================] - 20s 39ms/step - loss: 0.0300 - accuracy: 0.9340 - val_loss: 0.0738 - val_accuracy: 0.8954\n",
            "Epoch 428/500\n",
            "516/516 [==============================] - 20s 39ms/step - loss: 0.0299 - accuracy: 0.9352 - val_loss: 0.1230 - val_accuracy: 0.8600\n",
            "Epoch 429/500\n",
            "516/516 [==============================] - 20s 39ms/step - loss: 0.0296 - accuracy: 0.9367 - val_loss: 0.0870 - val_accuracy: 0.8804\n",
            "Epoch 430/500\n",
            "516/516 [==============================] - 20s 39ms/step - loss: 0.0296 - accuracy: 0.9362 - val_loss: 0.0789 - val_accuracy: 0.8893\n",
            "Epoch 431/500\n",
            "516/516 [==============================] - 20s 39ms/step - loss: 0.0298 - accuracy: 0.9369 - val_loss: 0.0923 - val_accuracy: 0.8804\n",
            "Epoch 432/500\n",
            "516/516 [==============================] - 20s 39ms/step - loss: 0.0301 - accuracy: 0.9339 - val_loss: 0.0806 - val_accuracy: 0.8923\n",
            "Epoch 433/500\n",
            "516/516 [==============================] - 20s 39ms/step - loss: 0.0291 - accuracy: 0.9367 - val_loss: 0.0986 - val_accuracy: 0.8748\n",
            "Epoch 434/500\n",
            "516/516 [==============================] - 20s 39ms/step - loss: 0.0300 - accuracy: 0.9356 - val_loss: 0.1054 - val_accuracy: 0.8688\n",
            "Epoch 435/500\n",
            "516/516 [==============================] - 20s 39ms/step - loss: 0.0292 - accuracy: 0.9364 - val_loss: 0.0972 - val_accuracy: 0.8809\n",
            "Epoch 436/500\n",
            "516/516 [==============================] - 20s 39ms/step - loss: 0.0288 - accuracy: 0.9406 - val_loss: 0.0940 - val_accuracy: 0.8845\n",
            "Epoch 437/500\n",
            "516/516 [==============================] - 20s 39ms/step - loss: 0.0304 - accuracy: 0.9349 - val_loss: 0.0908 - val_accuracy: 0.8777\n",
            "Epoch 438/500\n",
            "516/516 [==============================] - 20s 39ms/step - loss: 0.0297 - accuracy: 0.9356 - val_loss: 0.0906 - val_accuracy: 0.8826\n",
            "Epoch 439/500\n",
            "516/516 [==============================] - 20s 39ms/step - loss: 0.0295 - accuracy: 0.9378 - val_loss: 0.0710 - val_accuracy: 0.8954\n",
            "Epoch 440/500\n",
            "516/516 [==============================] - 20s 39ms/step - loss: 0.0299 - accuracy: 0.9358 - val_loss: 0.1139 - val_accuracy: 0.8600\n",
            "Epoch 441/500\n",
            "516/516 [==============================] - 20s 39ms/step - loss: 0.0292 - accuracy: 0.9393 - val_loss: 0.0662 - val_accuracy: 0.9022\n",
            "Epoch 442/500\n",
            "516/516 [==============================] - 20s 39ms/step - loss: 0.0298 - accuracy: 0.9347 - val_loss: 0.0706 - val_accuracy: 0.9048\n",
            "Epoch 443/500\n",
            "516/516 [==============================] - 20s 39ms/step - loss: 0.0294 - accuracy: 0.9359 - val_loss: 0.1019 - val_accuracy: 0.8717\n",
            "Epoch 444/500\n",
            "516/516 [==============================] - 20s 39ms/step - loss: 0.0298 - accuracy: 0.9378 - val_loss: 0.0669 - val_accuracy: 0.8959\n",
            "Epoch 445/500\n",
            "516/516 [==============================] - 20s 39ms/step - loss: 0.0292 - accuracy: 0.9413 - val_loss: 0.0704 - val_accuracy: 0.8925\n",
            "Epoch 446/500\n",
            "516/516 [==============================] - 20s 39ms/step - loss: 0.0296 - accuracy: 0.9369 - val_loss: 0.0792 - val_accuracy: 0.8845\n",
            "Epoch 447/500\n",
            "516/516 [==============================] - 20s 39ms/step - loss: 0.0295 - accuracy: 0.9370 - val_loss: 0.0937 - val_accuracy: 0.8734\n",
            "Epoch 448/500\n",
            "516/516 [==============================] - 20s 39ms/step - loss: 0.0298 - accuracy: 0.9378 - val_loss: 0.1008 - val_accuracy: 0.8777\n",
            "Epoch 449/500\n",
            "516/516 [==============================] - 20s 39ms/step - loss: 0.0289 - accuracy: 0.9390 - val_loss: 0.1001 - val_accuracy: 0.8695\n",
            "Epoch 450/500\n",
            "516/516 [==============================] - 20s 39ms/step - loss: 0.0289 - accuracy: 0.9371 - val_loss: 0.0946 - val_accuracy: 0.8809\n",
            "Epoch 451/500\n",
            "516/516 [==============================] - 20s 39ms/step - loss: 0.0289 - accuracy: 0.9377 - val_loss: 0.0724 - val_accuracy: 0.8930\n",
            "Epoch 452/500\n",
            "516/516 [==============================] - 20s 39ms/step - loss: 0.0295 - accuracy: 0.9365 - val_loss: 0.0821 - val_accuracy: 0.8869\n",
            "Epoch 453/500\n",
            "516/516 [==============================] - 20s 39ms/step - loss: 0.0291 - accuracy: 0.9375 - val_loss: 0.0950 - val_accuracy: 0.8768\n",
            "Epoch 454/500\n",
            "516/516 [==============================] - 20s 39ms/step - loss: 0.0291 - accuracy: 0.9368 - val_loss: 0.0697 - val_accuracy: 0.8985\n",
            "Epoch 455/500\n",
            "516/516 [==============================] - 20s 39ms/step - loss: 0.0289 - accuracy: 0.9402 - val_loss: 0.0777 - val_accuracy: 0.8901\n",
            "Epoch 456/500\n",
            "516/516 [==============================] - 20s 39ms/step - loss: 0.0290 - accuracy: 0.9387 - val_loss: 0.0999 - val_accuracy: 0.8714\n",
            "Epoch 457/500\n",
            "516/516 [==============================] - 20s 39ms/step - loss: 0.0298 - accuracy: 0.9329 - val_loss: 0.0725 - val_accuracy: 0.9012\n",
            "Epoch 458/500\n",
            "516/516 [==============================] - 20s 39ms/step - loss: 0.0291 - accuracy: 0.9372 - val_loss: 0.0918 - val_accuracy: 0.8785\n",
            "Epoch 459/500\n",
            "516/516 [==============================] - 20s 39ms/step - loss: 0.0297 - accuracy: 0.9368 - val_loss: 0.0765 - val_accuracy: 0.8947\n",
            "Epoch 460/500\n",
            "516/516 [==============================] - 20s 39ms/step - loss: 0.0295 - accuracy: 0.9367 - val_loss: 0.0826 - val_accuracy: 0.8906\n",
            "Epoch 461/500\n",
            "516/516 [==============================] - 20s 39ms/step - loss: 0.0296 - accuracy: 0.9359 - val_loss: 0.0966 - val_accuracy: 0.8748\n",
            "Epoch 462/500\n",
            "516/516 [==============================] - 20s 39ms/step - loss: 0.0285 - accuracy: 0.9396 - val_loss: 0.0925 - val_accuracy: 0.8780\n",
            "Epoch 463/500\n",
            "516/516 [==============================] - 20s 39ms/step - loss: 0.0297 - accuracy: 0.9364 - val_loss: 0.1115 - val_accuracy: 0.8598\n",
            "Epoch 464/500\n",
            "516/516 [==============================] - 20s 39ms/step - loss: 0.0289 - accuracy: 0.9402 - val_loss: 0.0782 - val_accuracy: 0.8942\n",
            "Epoch 465/500\n",
            "516/516 [==============================] - 20s 39ms/step - loss: 0.0290 - accuracy: 0.9359 - val_loss: 0.0646 - val_accuracy: 0.9044\n",
            "Epoch 466/500\n",
            "516/516 [==============================] - 20s 39ms/step - loss: 0.0296 - accuracy: 0.9396 - val_loss: 0.0939 - val_accuracy: 0.8831\n",
            "Epoch 467/500\n",
            "516/516 [==============================] - 20s 39ms/step - loss: 0.0290 - accuracy: 0.9375 - val_loss: 0.0912 - val_accuracy: 0.8801\n",
            "Epoch 468/500\n",
            "516/516 [==============================] - 20s 39ms/step - loss: 0.0285 - accuracy: 0.9398 - val_loss: 0.1382 - val_accuracy: 0.8402\n",
            "Epoch 469/500\n",
            "516/516 [==============================] - 20s 39ms/step - loss: 0.0286 - accuracy: 0.9383 - val_loss: 0.0996 - val_accuracy: 0.8755\n",
            "Epoch 470/500\n",
            "516/516 [==============================] - 20s 39ms/step - loss: 0.0289 - accuracy: 0.9389 - val_loss: 0.0861 - val_accuracy: 0.8896\n",
            "Epoch 471/500\n",
            "516/516 [==============================] - 20s 39ms/step - loss: 0.0284 - accuracy: 0.9412 - val_loss: 0.0989 - val_accuracy: 0.8738\n",
            "Epoch 472/500\n",
            "516/516 [==============================] - 20s 39ms/step - loss: 0.0287 - accuracy: 0.9412 - val_loss: 0.0842 - val_accuracy: 0.8860\n",
            "Epoch 473/500\n",
            "516/516 [==============================] - 20s 39ms/step - loss: 0.0285 - accuracy: 0.9385 - val_loss: 0.1285 - val_accuracy: 0.8550\n",
            "Epoch 474/500\n",
            "516/516 [==============================] - 20s 39ms/step - loss: 0.0291 - accuracy: 0.9357 - val_loss: 0.0948 - val_accuracy: 0.8729\n",
            "Epoch 475/500\n",
            "516/516 [==============================] - 20s 39ms/step - loss: 0.0280 - accuracy: 0.9392 - val_loss: 0.1213 - val_accuracy: 0.8559\n",
            "Epoch 476/500\n",
            "516/516 [==============================] - 20s 39ms/step - loss: 0.0295 - accuracy: 0.9367 - val_loss: 0.0846 - val_accuracy: 0.8893\n",
            "Epoch 477/500\n",
            "516/516 [==============================] - 20s 39ms/step - loss: 0.0278 - accuracy: 0.9412 - val_loss: 0.0996 - val_accuracy: 0.8722\n",
            "Epoch 478/500\n",
            "516/516 [==============================] - 20s 39ms/step - loss: 0.0280 - accuracy: 0.9423 - val_loss: 0.0868 - val_accuracy: 0.8850\n",
            "Epoch 479/500\n",
            "516/516 [==============================] - 20s 39ms/step - loss: 0.0287 - accuracy: 0.9372 - val_loss: 0.0959 - val_accuracy: 0.8818\n",
            "Epoch 480/500\n",
            "516/516 [==============================] - 20s 39ms/step - loss: 0.0283 - accuracy: 0.9389 - val_loss: 0.0603 - val_accuracy: 0.9179\n",
            "Epoch 481/500\n",
            "516/516 [==============================] - 20s 39ms/step - loss: 0.0278 - accuracy: 0.9405 - val_loss: 0.0875 - val_accuracy: 0.8889\n",
            "Epoch 482/500\n",
            "516/516 [==============================] - 20s 39ms/step - loss: 0.0282 - accuracy: 0.9407 - val_loss: 0.0792 - val_accuracy: 0.8823\n",
            "Epoch 483/500\n",
            "516/516 [==============================] - 20s 39ms/step - loss: 0.0281 - accuracy: 0.9399 - val_loss: 0.0860 - val_accuracy: 0.8840\n",
            "Epoch 484/500\n",
            "516/516 [==============================] - 20s 39ms/step - loss: 0.0284 - accuracy: 0.9398 - val_loss: 0.0884 - val_accuracy: 0.8857\n",
            "Epoch 485/500\n",
            "516/516 [==============================] - 20s 39ms/step - loss: 0.0282 - accuracy: 0.9392 - val_loss: 0.1061 - val_accuracy: 0.8787\n",
            "Epoch 486/500\n",
            "516/516 [==============================] - 20s 39ms/step - loss: 0.0275 - accuracy: 0.9427 - val_loss: 0.1160 - val_accuracy: 0.8644\n",
            "Epoch 487/500\n",
            "516/516 [==============================] - 20s 39ms/step - loss: 0.0280 - accuracy: 0.9394 - val_loss: 0.0975 - val_accuracy: 0.8734\n",
            "Epoch 488/500\n",
            "516/516 [==============================] - 20s 39ms/step - loss: 0.0284 - accuracy: 0.9416 - val_loss: 0.0740 - val_accuracy: 0.8998\n",
            "Epoch 489/500\n",
            "516/516 [==============================] - 20s 38ms/step - loss: 0.0281 - accuracy: 0.9398 - val_loss: 0.1201 - val_accuracy: 0.8613\n",
            "Epoch 490/500\n",
            "516/516 [==============================] - 20s 38ms/step - loss: 0.0282 - accuracy: 0.9407 - val_loss: 0.0828 - val_accuracy: 0.8915\n",
            "Epoch 491/500\n",
            "516/516 [==============================] - 20s 38ms/step - loss: 0.0281 - accuracy: 0.9393 - val_loss: 0.0617 - val_accuracy: 0.9155\n",
            "Epoch 492/500\n",
            "516/516 [==============================] - 20s 38ms/step - loss: 0.0282 - accuracy: 0.9403 - val_loss: 0.0861 - val_accuracy: 0.8896\n",
            "Epoch 493/500\n",
            "516/516 [==============================] - 20s 38ms/step - loss: 0.0278 - accuracy: 0.9414 - val_loss: 0.1020 - val_accuracy: 0.8763\n",
            "Epoch 494/500\n",
            "516/516 [==============================] - 20s 39ms/step - loss: 0.0280 - accuracy: 0.9395 - val_loss: 0.1057 - val_accuracy: 0.8722\n",
            "Epoch 495/500\n",
            "516/516 [==============================] - 20s 38ms/step - loss: 0.0279 - accuracy: 0.9419 - val_loss: 0.0998 - val_accuracy: 0.8869\n",
            "Epoch 496/500\n",
            "516/516 [==============================] - 20s 38ms/step - loss: 0.0277 - accuracy: 0.9419 - val_loss: 0.1064 - val_accuracy: 0.8787\n",
            "Epoch 497/500\n",
            "516/516 [==============================] - 20s 39ms/step - loss: 0.0266 - accuracy: 0.9452 - val_loss: 0.0936 - val_accuracy: 0.8717\n",
            "Epoch 498/500\n",
            "516/516 [==============================] - 20s 39ms/step - loss: 0.0270 - accuracy: 0.9440 - val_loss: 0.0668 - val_accuracy: 0.9039\n",
            "Epoch 499/500\n",
            "516/516 [==============================] - 20s 39ms/step - loss: 0.0274 - accuracy: 0.9435 - val_loss: 0.0887 - val_accuracy: 0.8896\n",
            "Epoch 500/500\n",
            "516/516 [==============================] - 20s 38ms/step - loss: 0.0275 - accuracy: 0.9426 - val_loss: 0.0815 - val_accuracy: 0.8942\n"
          ]
        }
      ]
    },
    {
      "cell_type": "markdown",
      "source": [
        "# Evaluating the Model"
      ],
      "metadata": {
        "id": "GC7nEFbnxjcT"
      }
    },
    {
      "cell_type": "code",
      "source": [
        "scores = model.evaluate(X_test, y_test)"
      ],
      "metadata": {
        "colab": {
          "base_uri": "https://localhost:8080/"
        },
        "id": "CHumMbRRnYOj",
        "outputId": "e8986bdb-2d0a-4654-f386-d734bb004396"
      },
      "execution_count": null,
      "outputs": [
        {
          "output_type": "stream",
          "name": "stdout",
          "text": [
            "130/130 [==============================] - 0s 3ms/step - loss: 0.0815 - accuracy: 0.8942\n"
          ]
        }
      ]
    },
    {
      "cell_type": "code",
      "source": [
        "y_pred=model.predict(X_test)\n",
        "y_pred=np.argmax(y_pred, axis=1)\n",
        "y_test=np.argmax(y_test, axis=1)\n",
        "cm = confusion_matrix(y_test, y_pred)\n",
        "print(cm)\n"
      ],
      "metadata": {
        "colab": {
          "base_uri": "https://localhost:8080/"
        },
        "id": "PMYe0LLreJwX",
        "outputId": "443ed099-eb63-44ec-8eb6-2f78eb14cbc8"
      },
      "execution_count": null,
      "outputs": [
        {
          "output_type": "stream",
          "name": "stdout",
          "text": [
            "130/130 [==============================] - 0s 2ms/step\n",
            "[[190   4   0   0   0   0   0   0   0   0   0   0   0   0   0]\n",
            " [  0 312   0   0   1   0   0   0   0   0   0   0   0   0   0]\n",
            " [  0   0 178   0   0   0   0   0   0   0   0   0   0   0   0]\n",
            " [  0   0  32 174   0   1   3   1   0   0   0   0   0   0   0]\n",
            " [  0   0   0   1  29   0   0   0   0   0   0   0   0   0   2]\n",
            " [  0   0   1   1   0 410   3   1   0   0   0   7   3   0   1]\n",
            " [  0   0   5   0   0   0 186   0   0   2   0   2   1   0   2]\n",
            " [  1   1  22  14   0   1  27 273   1   6   1   0   0   0  18]\n",
            " [  0   0   0   0   0   0   2   0 191   3   0   2   0   0   4]\n",
            " [  0   0  18   1   0   1   0   0   1 331   0   0   0   0   1]\n",
            " [  0   0   0   1   0   0   1   1   0   0 203   2   0   0  97]\n",
            " [  0   1   1   0   0   0   5   1   0   4  10 194   0   0  88]\n",
            " [  0   1   0   0   0   5   0   0   1   0   3   2 644   0   0]\n",
            " [  0   0   0   0   0   0   1   0   1   4   1   0   0  61   7]\n",
            " [  0   0   0   0   0   0   0   0   0   0   0   0   0   0 317]]\n"
          ]
        }
      ]
    },
    {
      "cell_type": "code",
      "source": [
        "print(classification_report(y_test, y_pred))"
      ],
      "metadata": {
        "colab": {
          "base_uri": "https://localhost:8080/"
        },
        "id": "Ji3TJlc0eNiP",
        "outputId": "7456ef72-369c-4707-c26c-60cb56b6b330"
      },
      "execution_count": null,
      "outputs": [
        {
          "output_type": "stream",
          "name": "stdout",
          "text": [
            "              precision    recall  f1-score   support\n",
            "\n",
            "           0       0.99      0.98      0.99       194\n",
            "           1       0.98      1.00      0.99       313\n",
            "           2       0.69      1.00      0.82       178\n",
            "           3       0.91      0.82      0.86       211\n",
            "           4       0.97      0.91      0.94        32\n",
            "           5       0.98      0.96      0.97       427\n",
            "           6       0.82      0.94      0.87       198\n",
            "           7       0.99      0.75      0.85       365\n",
            "           8       0.98      0.95      0.96       202\n",
            "           9       0.95      0.94      0.94       353\n",
            "          10       0.93      0.67      0.78       305\n",
            "          11       0.93      0.64      0.76       304\n",
            "          12       0.99      0.98      0.99       656\n",
            "          13       1.00      0.81      0.90        75\n",
            "          14       0.59      1.00      0.74       317\n",
            "\n",
            "    accuracy                           0.89      4130\n",
            "   macro avg       0.91      0.89      0.89      4130\n",
            "weighted avg       0.92      0.89      0.90      4130\n",
            "\n"
          ]
        }
      ]
    },
    {
      "cell_type": "code",
      "source": [
        "acc = history.history['accuracy']\n",
        "val_acc = history.history['val_accuracy']\n",
        "loss = history.history['loss']\n",
        "val_loss = history.history['val_loss']\n",
        "epochs = range(1, len(acc) + 1)\n",
        "plt.plot(epochs, acc, 'b', label='Training accurarcy')\n",
        "plt.plot(epochs, val_acc, 'r', label='Validation accurarcy')\n",
        "plt.title('Training and Validation accurarcy')\n",
        "plt.legend()\n",
        "plt.figure()\n",
        "plt.plot(epochs, loss, 'b', label='Training loss')\n",
        "plt.plot(epochs, val_loss, 'r', label='Validation loss')\n",
        "plt.title('Training and Validation loss')\n",
        "plt.legend()\n",
        "plt.show()"
      ],
      "metadata": {
        "colab": {
          "base_uri": "https://localhost:8080/",
          "height": 887
        },
        "id": "1h_SId8Xeg9Z",
        "outputId": "0196405a-30b0-48e7-ed96-5e7607420340"
      },
      "execution_count": null,
      "outputs": [
        {
          "output_type": "display_data",
          "data": {
            "text/plain": [
              "<Figure size 640x480 with 1 Axes>"
            ],
            "image/png": "[encoded data removed]"
          },
          "metadata": {}
        },
        {
          "output_type": "display_data",
          "data": {
            "text/plain": [
              "<Figure size 640x480 with 1 Axes>"
            ],
            "image/png": "[encoded data removed]"
          },
          "metadata": {}
        }
      ]
    },
    {
      "cell_type": "markdown",
      "source": [
        "# Predictions of the Model on unseen Data"
      ],
      "metadata": {
        "id": "SqMvRC2HxmBO"
      }
    },
    {
      "cell_type": "code",
      "source": [
        "imagepath = imread(\"/content/drive/MyDrive/plantdetection/024623ab-be81-4d99-a653-c3be1495ce8e___JR_B.Spot 8889.jpg\")\n",
        "image = imread(\"/content/drive/MyDrive/plantdetection/024623ab-be81-4d99-a653-c3be1495ce8e___JR_B.Spot 8889.jpg\")\n",
        "image = cv2.resize(image,(64,64))\n",
        "imagepath = cv2.resize(imagepath,(64,64))\n",
        "image = np.array(image/255)\n",
        "image = image.reshape(-1,64,64,3)\n",
        "plt.imshow(imagepath)"
      ],
      "metadata": {
        "colab": {
          "base_uri": "https://localhost:8080/",
          "height": 449
        },
        "id": "2NLiTJzSe56B",
        "outputId": "5245de09-817b-4ab7-ca39-d7c45aa4a482"
      },
      "execution_count": null,
      "outputs": [
        {
          "output_type": "execute_result",
          "data": {
            "text/plain": [
              "<matplotlib.image.AxesImage at 0x7da8703a2890>"
            ]
          },
          "metadata": {},
          "execution_count": 26
        },
        {
          "output_type": "display_data",
          "data": {
            "text/plain": [
              "<Figure size 640x480 with 1 Axes>"
            ],
            "image/png": "[encoded data removed]"
          },
          "metadata": {}
        }
      ]
    },
    {
      "cell_type": "code",
      "source": [
        "classification_result = model.predict(image)\n",
        "print(classification_result)"
      ],
      "metadata": {
        "colab": {
          "base_uri": "https://localhost:8080/"
        },
        "id": "3kF3euXTe9mr",
        "outputId": "b9f6847c-0ccb-4175-db6a-6753a1a578ad"
      },
      "execution_count": null,
      "outputs": [
        {
          "output_type": "stream",
          "name": "stdout",
          "text": [
            "1/1 [==============================] - 0s 168ms/step\n",
            "[[1.41367573e-09 9.99989271e-01 6.55901911e-15 1.45155349e-25\n",
            "  3.76622504e-38 2.11280533e-31 2.16597879e-10 6.47041719e-17\n",
            "  4.62176963e-15 1.07475025e-05 2.29722144e-37 1.40727524e-32\n",
            "  1.20071197e-24 2.20504465e-33 1.17054306e-37]]\n"
          ]
        }
      ]
    },
    {
      "cell_type": "code",
      "source": [
        "print(lb.classes_[(classification_result.argmax())])"
      ],
      "metadata": {
        "colab": {
          "base_uri": "https://localhost:8080/"
        },
        "id": "AtGb8rUvfWD0",
        "outputId": "27852f36-4ca1-43b4-9529-9b5cebd29526"
      },
      "execution_count": null,
      "outputs": [
        {
          "output_type": "stream",
          "name": "stdout",
          "text": [
            "Pepper__bell___healthy\n"
          ]
        }
      ]
    },
    {
      "cell_type": "code",
      "source": [
        "imagepath = imread(\"/content/drive/MyDrive/plantdetection/Copy of 04ddbde3-d33c-42bf-b849-dad24d64fd6f___RS_Erly.B 7664.JPG\")\n",
        "image = imread(\"/content/drive/MyDrive/plantdetection/Copy of 04ddbde3-d33c-42bf-b849-dad24d64fd6f___RS_Erly.B 7664.JPG\")\n",
        "image = cv2.resize(image,(64,64))\n",
        "imagepath = cv2.resize(imagepath,(64,64))\n",
        "image = np.array(image/255)\n",
        "image = image.reshape(-1,64,64,3)\n",
        "plt.imshow(imagepath)"
      ],
      "metadata": {
        "colab": {
          "base_uri": "https://localhost:8080/",
          "height": 449
        },
        "id": "nqD5UdwGfZy-",
        "outputId": "7efabd87-ca8b-4f4f-fa06-ba57aa5d0198"
      },
      "execution_count": null,
      "outputs": [
        {
          "output_type": "execute_result",
          "data": {
            "text/plain": [
              "<matplotlib.image.AxesImage at 0x7da87024c940>"
            ]
          },
          "metadata": {},
          "execution_count": 29
        },
        {
          "output_type": "display_data",
          "data": {
            "text/plain": [
              "<Figure size 640x480 with 1 Axes>"
            ],
            "image/png": "[encoded data removed]"
          },
          "metadata": {}
        }
      ]
    },
    {
      "cell_type": "code",
      "source": [
        "classification_result = model.predict(image)\n",
        "print(classification_result)"
      ],
      "metadata": {
        "colab": {
          "base_uri": "https://localhost:8080/"
        },
        "id": "WlOhnvTdfeWK",
        "outputId": "10a6efdd-2dd3-4a10-cdf8-9723cbd30472"
      },
      "execution_count": null,
      "outputs": [
        {
          "output_type": "stream",
          "name": "stdout",
          "text": [
            "1/1 [==============================] - 0s 24ms/step\n",
            "[[2.8180963e-07 3.7323055e-01 1.2759460e-07 6.6930918e-12 3.3638033e-31\n",
            "  2.2340578e-17 4.5710874e-01 1.3528715e-02 1.5409614e-01 2.0266683e-03\n",
            "  4.9445416e-16 6.4678586e-19 8.7417948e-06 1.1812662e-15 7.3609885e-18]]\n"
          ]
        }
      ]
    },
    {
      "cell_type": "code",
      "source": [
        "print(lb.classes_[(classification_result.argmax())])"
      ],
      "metadata": {
        "id": "BsCXHsYufjSK",
        "outputId": "1835e2dc-b4e5-4a43-94ca-aff47582c7e7",
        "colab": {
          "base_uri": "https://localhost:8080/"
        }
      },
      "execution_count": null,
      "outputs": [
        {
          "output_type": "stream",
          "name": "stdout",
          "text": [
            "Tomato_Early_blight\n"
          ]
        }
      ]
    },
    {
      "cell_type": "markdown",
      "source": [
        "# Saving the Model"
      ],
      "metadata": {
        "id": "ZOiqlTJlxrOC"
      }
    },
    {
      "cell_type": "code",
      "source": [
        "model.save('vgg16')"
      ],
      "metadata": {
        "id": "UOSlmDDbwolu"
      },
      "execution_count": null,
      "outputs": []
    },
    {
      "cell_type": "code",
      "source": [
        "converter = tf.lite.TFLiteConverter.from_saved_model(\"vgg16\")\n",
        "tflite_model = converter.convert()\n",
        "\n",
        "\n",
        "with open(\"vgg16.tflite\", \"wb\") as f:\n",
        "    f.write(tflite_model)"
      ],
      "metadata": {
        "id": "b4HiigqFWxWS"
      },
      "execution_count": null,
      "outputs": []
    }
  ]
}